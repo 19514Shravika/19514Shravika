{
  "nbformat": 4,
  "nbformat_minor": 0,
  "metadata": {
    "colab": {
      "name": "Ep record 3514",
      "provenance": [],
      "authorship_tag": "ABX9TyPtl44ZmkeIkOcJ7YEHk+Ke",
      "include_colab_link": true
    },
    "kernelspec": {
      "name": "python3",
      "display_name": "Python 3"
    },
    "language_info": {
      "name": "python"
    }
  },
  "cells": [
    {
      "cell_type": "markdown",
      "metadata": {
        "id": "view-in-github",
        "colab_type": "text"
      },
      "source": [
        "<a href=\"https://colab.research.google.com/github/19514Shravika/19514Shravika/blob/main/Ep_record_3514.ipynb\" target=\"_parent\"><img src=\"https://colab.research.google.com/assets/colab-badge.svg\" alt=\"Open In Colab\"/></a>"
      ]
    },
    {
      "cell_type": "markdown",
      "metadata": {
        "id": "AGWtD8HGPtdd"
      },
      "source": [
        "# **EP** **RECORD**"
      ]
    },
    {
      "cell_type": "markdown",
      "metadata": {
        "id": "Rfvlyv8NMrOc"
      },
      "source": [
        "# **Exercise** **1**"
      ]
    },
    {
      "cell_type": "markdown",
      "metadata": {
        "id": "qEWSF0WTNDK8"
      },
      "source": [
        "b) Write a program to demonstrate the use of basic data types"
      ]
    },
    {
      "cell_type": "code",
      "metadata": {
        "colab": {
          "base_uri": "https://localhost:8080/"
        },
        "id": "KNVTZ-BQHojw",
        "outputId": "7fc21eeb-a5a2-4e11-9713-2fd62b96a102"
      },
      "source": [
        "#1.NUMERIC\n",
        "#1.a)int\n",
        "a=int(input(\"enter num\"))\n",
        "b=int(input(\"enter num\"))\n",
        "c=a+b\n",
        "print(\"sum is\",c)\n",
        "print(type(c))\n",
        "print(\".......\")\n",
        "#1.b)float\n",
        "a=float(input(\"enter num\"))\n",
        "b=float(input(\"enter num\"))\n",
        "c=a+b\n",
        "print(\"sum is\",c)\n",
        "print(type(c))\n",
        "print(\".......\")\n",
        "#1.c)complex\n",
        "a=complex(input(\"enter num\"))\n",
        "b=complex(input(\"enter num\"))\n",
        "c=a+b\n",
        "print(\"sum is\",c)\n",
        "print(type(c))\n",
        "print(\"_____________\")\n",
        "#2.BOOLEAN\n",
        "print(9>2)\n",
        "print(9 == 2)\n",
        "print(9 < 2)\n",
        "print(\"_____________\")\n",
        "#3.SET\n",
        "Set = {1, 2, 3}# set of integers\n",
        "print(Set)\n",
        "Set = {2.0, \"Hello\", (3, 4, 5)}# set of mixed datatypes\n",
        "print(Set)\n",
        "print(type(Set))\n",
        "print(\"_____________\")\n",
        "#4.SEQUENCE TYPE\n",
        "#4.a)Strings\n",
        "my_string = \"hello\"\n",
        "print(my_string)\n",
        "my_string = \"\"\"Hello, I'm shravika     \n",
        "           from Vidya Jyothi Institute of Technology \"\"\"\n",
        "print(my_string)# triple quotes string can extend multiple lines\n",
        "print(my_string[0:15])\n",
        "print(my_string[:-10])\n",
        "print(type(my_string))\n",
        "print(\".......\")\n",
        "#4.b)list\n",
        "my_list = ['d','e','f','g','h']\n",
        "print(my_list)\n",
        "print(my_list[2])\n",
        "print(my_list[-1])\n",
        "print(type(my_list))\n",
        "print(\".......\")\n",
        "#4.c)Tuple\n",
        "tup=('sita','geeta','shiva','priya','ravi','sweety')\n",
        "print(tup)\n",
        "print(tup[0])\n",
        "print(tup[1:4])\n",
        "print(type(tup))\n",
        "print(\"_____________\")\n",
        "#5.DICTIONARY\n",
        "my_dict = {'name': 'shravika', 'age': 19}\n",
        "print(my_dict)\n",
        "print(my_dict['name'])\n",
        "print(my_dict.get('age'))\n",
        "print(type(my_dict))"
      ],
      "execution_count": null,
      "outputs": [
        {
          "output_type": "stream",
          "text": [
            "enter num2\n",
            "enter num3\n",
            "sum is 5\n",
            "<class 'int'>\n",
            ".......\n",
            "enter num4\n",
            "enter num5\n",
            "sum is 9.0\n",
            "<class 'float'>\n",
            ".......\n",
            "enter num6\n",
            "enter num7\n",
            "sum is (13+0j)\n",
            "<class 'complex'>\n",
            "_____________\n",
            "True\n",
            "False\n",
            "False\n",
            "_____________\n",
            "{1, 2, 3}\n",
            "{(3, 4, 5), 2.0, 'Hello'}\n",
            "<class 'set'>\n",
            "_____________\n",
            "hello\n",
            "Hello, I'm shravika     \n",
            "           from Vidya Jyothi Institute of Technology \n",
            "Hello, I'm shra\n",
            "Hello, I'm shravika     \n",
            "           from Vidya Jyothi Institute of T\n",
            "<class 'str'>\n",
            ".......\n",
            "['d', 'e', 'f', 'g', 'h']\n",
            "f\n",
            "h\n",
            "<class 'list'>\n",
            ".......\n",
            "('sita', 'geeta', 'shiva', 'priya', 'ravi', 'sweety')\n",
            "sita\n",
            "('geeta', 'shiva', 'priya')\n",
            "<class 'tuple'>\n",
            "_____________\n",
            "{'name': 'shravika', 'age': 19}\n",
            "shravika\n",
            "19\n",
            "<class 'dict'>\n"
          ],
          "name": "stdout"
        }
      ]
    },
    {
      "cell_type": "markdown",
      "metadata": {
        "id": "AV4DR9KIMpeg"
      },
      "source": [
        "c) Write a program to demonstrate the operators and expressions"
      ]
    },
    {
      "cell_type": "code",
      "metadata": {
        "colab": {
          "base_uri": "https://localhost:8080/"
        },
        "id": "JJV6y_DdIyt6",
        "outputId": "62b33c18-b6cc-4eba-f704-a59b3387fab7"
      },
      "source": [
        "#1.OPERATORS\n",
        "#1.a)Arithmetic operators\n",
        "a = int(input(\"Enter a number\"))\n",
        "b = int(input(\"Enter a number\"))\n",
        "add = a + b # Addition of numbers \n",
        "sub = a - b # Subtraction of numbers \n",
        "mul = a * b # Multiplication of number \n",
        "div1 = a / b # Division(float) of number \n",
        "div2 = a // b # Division(floor) of number \n",
        "mod = a % b # Modulo of both number \n",
        "p = a ** b# Power\n",
        "print(add) \n",
        "print(sub) \n",
        "print(mul) \n",
        "print(div1) \n",
        "print(div2) \n",
        "print(mod)\n",
        "print(p)\n",
        "print(\"..................\")\n",
        "#1.b)Relatinal operators\n",
        "print(a > b)\n",
        "print(a < b)\n",
        "print(a == b)\n",
        "print(a != b)\n",
        "print(a >= b)\n",
        "print(a <= b)\n",
        "print(\"..................\")\n",
        "#1.c)Bitwise operators\n",
        "print(a & b)#bitwise AND operation  \n",
        "print(a | b)#bitwise OR operation\n",
        "print(~a)#bitwise NOT operation \n",
        "print(a ^ b)#bitwise XOR operation \n",
        "print(a >> 2)#bitwise right shift operation \n",
        "print(a << 2)#bitwise left shift operation\n",
        "print(\"..................\")\n",
        "#1.d)Identity operators\n",
        "print(a is not b) \n",
        "print(a is b)\n",
        "print(\"..................\")\n",
        "#1.e)Logical operators\n",
        "S=True\n",
        "T=False\n",
        "print(S and T)\n",
        "print(S or T)\n",
        "print(not S)\n",
        "print(not T)\n",
        "print(\"..................\")\n",
        "#1.f)Assignment operators\n",
        "a+=b\n",
        "print(a)\n",
        "a-=b\n",
        "print(a)\n",
        "a*=b\n",
        "print(a)\n",
        "a/=b\n",
        "print(a)\n",
        "a%=b\n",
        "print(a)\n",
        "a//=b\n",
        "print(a)\n",
        "a**=b\n",
        "print(a)\n",
        "print(\"..................\")\n",
        "#1.g)Membership operators\n",
        "x = 'Vidya Jyothi Institute of Technology'\n",
        "y = {1:'a',2:'b'}\n",
        "print('I' in x)\n",
        "print('of' not in x)\n",
        "print('Of' not in x)\n",
        "print(1 in y)\n",
        "print('o' in y)"
      ],
      "execution_count": null,
      "outputs": [
        {
          "output_type": "stream",
          "text": [
            "Enter a number2\n",
            "Enter a number4\n",
            "6\n",
            "-2\n",
            "8\n",
            "0.5\n",
            "0\n",
            "2\n",
            "16\n",
            "..................\n",
            "False\n",
            "True\n",
            "False\n",
            "True\n",
            "False\n",
            "True\n",
            "..................\n",
            "0\n",
            "6\n",
            "-3\n",
            "6\n",
            "0\n",
            "8\n",
            "..................\n",
            "True\n",
            "False\n",
            "..................\n",
            "False\n",
            "True\n",
            "False\n",
            "True\n",
            "..................\n",
            "6\n",
            "2\n",
            "8\n",
            "2.0\n",
            "2.0\n",
            "0.0\n",
            "0.0\n",
            "..................\n",
            "True\n",
            "False\n",
            "True\n",
            "True\n",
            "False\n"
          ],
          "name": "stdout"
        }
      ]
    },
    {
      "cell_type": "markdown",
      "metadata": {
        "id": "ITGS9B6yNrd_"
      },
      "source": [
        "d) python program to demonstrate functions and parameter passing techniques"
      ]
    },
    {
      "cell_type": "code",
      "metadata": {
        "colab": {
          "base_uri": "https://localhost:8080/"
        },
        "id": "H1l11yGUJTEL",
        "outputId": "6a594857-4798-4931-f9b4-83beec17286e"
      },
      "source": [
        "#function without any parameters\n",
        "def my_function():#creating a function\n",
        "  print(\"Hi!I'm from Vidya Jyothi Institute of Technology\")\n",
        "my_function()#calling a function\n",
        "print(\"..................\")\n",
        "#function with parameters\n",
        "def my_dept(clg):\n",
        "  print(\"Hi!I'm from \"+clg)\n",
        "my_dept(\"Vidya Jyothi Institute of Technology\")\n",
        "my_dept(\"CBIT\")\n",
        "my_dept(\"CVSR\")"
      ],
      "execution_count": null,
      "outputs": [
        {
          "output_type": "stream",
          "text": [
            "Hi!I'm from Vidya Jyothi Institute of Technology\n",
            "..................\n",
            "Hi!I'm from Vidya Jyothi Institute of Technology\n",
            "Hi!I'm from CBIT\n",
            "Hi!I'm from CVSR\n"
          ],
          "name": "stdout"
        }
      ]
    },
    {
      "cell_type": "markdown",
      "metadata": {
        "id": "-Wx1b_L7NxYr"
      },
      "source": [
        "# **Exercise** **2**"
      ]
    },
    {
      "cell_type": "markdown",
      "metadata": {
        "id": "EUAp9-DRN1I1"
      },
      "source": [
        "BUILT-IN FUNCTIONS"
      ]
    },
    {
      "cell_type": "code",
      "metadata": {
        "colab": {
          "base_uri": "https://localhost:8080/"
        },
        "id": "TXGhMvp8NTMZ",
        "outputId": "e5c3121e-c43e-4f71-e4e6-4d938499290f"
      },
      "source": [
        "#1.Absolute\n",
        "print(\"ABSOLUTE\")\n",
        "print('Absolute of -10.589 = ', abs(-10.589))\n",
        "#2.Binary\n",
        "print(\"BINARY\")\n",
        "print(\"Binary Equalent of 16\", bin(16))\n",
        "#3.Quotient and remainder\n",
        "print(\"QUOTIENT AND REMAINDER\")\n",
        "print(\"Quotient and remainder of 10/5 = \" , divmod(10,5))\n",
        "#4.Float\n",
        "print(\"FLOAT\")\n",
        "print(\"float value of 10 = \", float(10))\n",
        "#5.Int\n",
        "print(\"INT\")\n",
        "print(\"int value of 10.2 =\", int(10.2))\n",
        "#6.Max\n",
        "print(\"MAX\")\n",
        "print(\"Maximum of 10,20,30 = \", max(10,20,30))\n",
        "#7.Min\n",
        "print(\"MIN\")\n",
        "print(\"Minimum of 10,20,30 = \", min(10,20,30))\n",
        "#8.Power\n",
        "print(\"POWER\")\n",
        "print(\"2 power 4 = \", pow(2,4))\n",
        "#9.Evaluate\n",
        "print(\"EVALUATE\")\n",
        "x=2\n",
        "print(\"Evaluate value of x**2 = \",eval('x**2'))\n",
        "import math\n",
        "#9.Square root\n",
        "print(\"SQUARE ROOT\")\n",
        "print(\"Square root of 25 = \" ,math.sqrt(25))\n"
      ],
      "execution_count": null,
      "outputs": [
        {
          "output_type": "stream",
          "text": [
            "ABSOLUTE\n",
            "Absolute of -10.589 =  10.589\n",
            "BINARY\n",
            "Binary Equalent of 16 0b10000\n",
            "QUOTIENT AND REMAINDER\n",
            "Quotient and remainder of 10/5 =  (2, 0)\n",
            "FLOAT\n",
            "float value of 10 =  10.0\n",
            "INT\n",
            "int value of 10.2 = 10\n",
            "MAX\n",
            "Maximum of 10,20,30 =  30\n",
            "MIN\n",
            "Minimum of 10,20,30 =  10\n",
            "POWER\n",
            "2 power 4 =  16\n",
            "EVALUATE\n",
            "Evaluate value of x**2 =  4\n",
            "SQUARE ROOT\n",
            "Square root of 25 =  5.0\n"
          ],
          "name": "stdout"
        }
      ]
    },
    {
      "cell_type": "code",
      "metadata": {
        "colab": {
          "base_uri": "https://localhost:8080/"
        },
        "id": "eC6rvPayKGkr",
        "outputId": "52a5c938-164e-419c-cd20-96c2784c26a5"
      },
      "source": [
        "#1)list\n",
        "my_list = ['a','b','c','d','e']\n",
        "print(my_list)\n",
        "print(my_list[2])\n",
        "print(my_list[-1])\n",
        "print(my_list[1:3])\n",
        "print(my_list[ :3])\n",
        "print(my_list[1:])\n",
        "print(my_list[:-3])\n",
        "print(my_list[-1:])\n",
        "print(type(my_list))\n",
        "print(\"_____________\")\n",
        "#2)Tuple\n",
        "tup=('sita','geeta','shiva','priya','ravi','sweety')\n",
        "tup1=(5,6)\n",
        "tup2=(1,8)\n",
        "print(tup)\n",
        "print(tup[0])\n",
        "print(tup[1:4])\n",
        "print(tup[:3])\n",
        "print(tup[2:])\n",
        "print(tup[:-2])\n",
        "print(tup[-1:])\n",
        "if (tup1>tup2):print( \"tup1 is bigger\")\n",
        "else: print(\"tup2 is bigger\")\n",
        "print(type(tup))\n",
        "print(\"_____________\")\n",
        "#3)DICTIONARY\n",
        "my_dict = {'name': 'shravika', 'age': 19}\n",
        "print(my_dict)\n",
        "print(my_dict['name'])\n",
        "print(my_dict.get('age'))\n",
        "my_dict.update({'Branch':'Aie','marks':20})\n",
        "print(my_dict)\n",
        "del my_dict['marks']\n",
        "print(my_dict)\n",
        "my_dict['marks']='20'\n",
        "print(my_dict)\n",
        "my_dict.pop(\"marks\")\n",
        "print(my_dict)\n",
        "print(type(my_dict))"
      ],
      "execution_count": null,
      "outputs": [
        {
          "output_type": "stream",
          "text": [
            "['a', 'b', 'c', 'd', 'e']\n",
            "c\n",
            "e\n",
            "['b', 'c']\n",
            "['a', 'b', 'c']\n",
            "['b', 'c', 'd', 'e']\n",
            "['a', 'b']\n",
            "['e']\n",
            "<class 'list'>\n",
            "_____________\n",
            "('sita', 'geeta', 'shiva', 'priya', 'ravi', 'sweety')\n",
            "sita\n",
            "('geeta', 'shiva', 'priya')\n",
            "('sita', 'geeta', 'shiva')\n",
            "('shiva', 'priya', 'ravi', 'sweety')\n",
            "('sita', 'geeta', 'shiva', 'priya')\n",
            "('sweety',)\n",
            "tup1 is bigger\n",
            "<class 'tuple'>\n",
            "_____________\n",
            "{'name': 'shravika', 'age': 19}\n",
            "shravika\n",
            "19\n",
            "{'name': 'shravika', 'age': 19, 'Branch': 'Aie', 'marks': 20}\n",
            "{'name': 'shravika', 'age': 19, 'Branch': 'Aie'}\n",
            "{'name': 'shravika', 'age': 19, 'Branch': 'Aie', 'marks': '20'}\n",
            "{'name': 'shravika', 'age': 19, 'Branch': 'Aie'}\n",
            "<class 'dict'>\n"
          ],
          "name": "stdout"
        }
      ]
    },
    {
      "cell_type": "markdown",
      "metadata": {
        "id": "Arvit1zwObQS"
      },
      "source": [
        "c) Program on Strings,string operations and regular expression\n"
      ]
    },
    {
      "cell_type": "code",
      "metadata": {
        "colab": {
          "base_uri": "https://localhost:8080/"
        },
        "id": "arjK7cOON4ab",
        "outputId": "5c120f11-ef6f-4c95-af97-4cd13e977730"
      },
      "source": [
        "#1)Strings\n",
        "my_string = \"Hello\"\n",
        "print(my_string)\n",
        "my_string = \"\"\"Hello, I'm shravika   \n",
        "           from Artificial intelligence\"\"\"\n",
        "print(my_string)# triple quotes string can extend multiple lines\n",
        "print(\"STRING SLICING\")\n",
        "print(my_string[12])\n",
        "print(my_string[-5])\n",
        "print(my_string[0:16])\n",
        "print(my_string[ :16])\n",
        "print(my_string[12:])\n",
        "print(my_string[:-10])\n",
        "print(my_string[-4:])\n",
        "print(type(my_string))\n",
        "print(\"................\")\n",
        "print(\"STRING OPERATIONS\")\n",
        "s=\"Hi I'm shravika from artificial intelligence\"\n",
        "t=\"Hi\"\n",
        "print(len(str(s)))#finding length of the string\n",
        "print(s.capitalize())#capitalizing first letter of sting\n",
        "print(s.count('i',0,28))#repetation\n",
        "print(s.index(\"f\",12,28))#index finding\n",
        "print(s.isalnum())#checks if there are only alpabets and nums\n",
        "print(s.endswith(\"o\",0,5))#checks if it ends with give alphabet\n",
        "print(s.find(\"from arti\"))\n",
        "print(s.isupper())\n",
        "print(s.islower())\n",
        "print(s.isspace())\n",
        "print(s.istitle())\n",
        "print(t.join(t))\n",
        "print(s.partition(\"from\"))\n",
        "print(s.replace(\"intelligence\",\"engineering\"))\n",
        "print(\"_____________________\")\n",
        "#2)Regular expressions\n",
        "#match\n",
        "import re\n",
        "Name = r\"shravika\"\n",
        "last_name = \"shravika\"\n",
        "if re.match(Name,last_name):\n",
        "  print(\"Match!\")\n",
        "else: \n",
        "  print(\"Not a match!\")\n",
        "#findall\n",
        "S =\"Hi I'm shravika from artificial intelligence\"\n",
        "# findall('Pattern', \"string\")\n",
        "x = re.findall('[abc]' , S )\n",
        "y=re.findall('[a-c]', S)\n",
        "z=re.findall('^[a-c]', S)\n",
        "t= re.findall('a*', S)\n",
        "v= re.findall('[a-e]*', S)\n",
        "n= re.findall('[A-Z][a-z]*', s)\n",
        "print(x)\n",
        "print(y)\n",
        "print(z)\n",
        "print(t)\n",
        "print(v)\n",
        "print(n)\n",
        "#search(\"Pattern\", string)\n",
        "if re.search('a*', S):\n",
        "  print(\"Found\")\n",
        "else:\n",
        "  print(\"Not found\")\n",
        "#split\n",
        "text=\"Hi I'm shravika from artificial intelligence\"\n",
        "result = re.split('[a-e]',text)\n",
        "print(result)"
      ],
      "execution_count": null,
      "outputs": [
        {
          "output_type": "stream",
          "text": [
            "Hello\n",
            "Hello, I'm shravika   \n",
            "           from Artificial intelligence\n",
            "STRING SLICING\n",
            "h\n",
            "g\n",
            "Hello, I'm shrav\n",
            "Hello, I'm shrav\n",
            "hravika   \n",
            "           from Artificial intelligence\n",
            "Hello, I'm shravika   \n",
            "           from Artificial in\n",
            "ence\n",
            "<class 'str'>\n",
            "................\n",
            "STRING OPERATIONS\n",
            "44\n",
            "Hi i'm shravika from artificial intelligence\n",
            "4\n",
            "16\n",
            "False\n",
            "False\n",
            "16\n",
            "False\n",
            "False\n",
            "False\n",
            "False\n",
            "HHii\n",
            "(\"Hi I'm shravika \", 'from', ' artificial intelligence')\n",
            "Hi I'm shravika from artificial engineering\n",
            "_____________________\n",
            "Match!\n",
            "['a', 'a', 'a', 'c', 'a', 'c']\n",
            "['a', 'a', 'a', 'c', 'a', 'c']\n",
            "[]\n",
            "['', '', '', '', '', '', '', '', '', '', 'a', '', '', '', 'a', '', '', '', '', '', '', 'a', '', '', '', '', '', '', '', 'a', '', '', '', '', '', '', '', '', '', '', '', '', '', '', '']\n",
            "['', '', '', '', '', '', '', '', '', '', 'a', '', '', '', 'a', '', '', '', '', '', '', 'a', '', '', '', '', '', 'c', '', 'a', '', '', '', '', '', 'e', '', '', '', '', 'e', '', 'ce', '']\n",
            "['Hi', 'I']\n",
            "Found\n",
            "[\"Hi I'm shr\", 'vik', ' from ', 'rtifi', 'i', 'l int', 'llig', 'n', '', '']\n"
          ],
          "name": "stdout"
        }
      ]
    },
    {
      "cell_type": "markdown",
      "metadata": {
        "id": "Fw_OuTrIKoqI"
      },
      "source": [
        "# **Exercise** **3**"
      ]
    },
    {
      "cell_type": "markdown",
      "metadata": {
        "id": "NxkrU27cKwic"
      },
      "source": [
        "a)Write a program to implement Class and object"
      ]
    },
    {
      "cell_type": "code",
      "metadata": {
        "colab": {
          "base_uri": "https://localhost:8080/"
        },
        "id": "QZARSmNOKkEQ",
        "outputId": "7eb483ab-6ceb-4f2f-e7a1-cf47bb030dd2"
      },
      "source": [
        "#classes and objects without constructor\n",
        "print(\"WITHOUT CONSTRUCTOR\")\n",
        "class person:\n",
        "    pass\n",
        "male=person()#object1\n",
        "female=person()#object2\n",
        "male.name='surya'\n",
        "male.age=24\n",
        "female.name='shravika'\n",
        "female.age=19\n",
        "print(male.__dict__)\n",
        "print(female.age)\n",
        "print(female.__dict__)\n",
        "#classes and objects with constructor\n",
        "print(\"WITH CONSTRUCTOR\")\n",
        "class person:\n",
        "    def __init__(self,name,age):\n",
        "        self.name=name\n",
        "        self.age=age\n",
        "male=person('surya',24)\n",
        "female=person('shravika',19)\n",
        "male.lastname='ganduri'\n",
        "print(male.__dict__)#dict keyword gives all d info about object\n",
        "print(female.age)\n",
        "print(female.__dict__)"
      ],
      "execution_count": null,
      "outputs": [
        {
          "output_type": "stream",
          "text": [
            "WITHOUT CONSTRUCTOR\n",
            "{'name': 'surya', 'age': 24}\n",
            "19\n",
            "{'name': 'shravika', 'age': 19}\n",
            "WITH CONSTRUCTOR\n",
            "{'name': 'surya', 'age': 24, 'lastname': 'ganduri'}\n",
            "19\n",
            "{'name': 'shravika', 'age': 19}\n"
          ],
          "name": "stdout"
        }
      ]
    },
    {
      "cell_type": "markdown",
      "metadata": {
        "id": "NDrkic6LLaNL"
      },
      "source": [
        "c) Write a program to compute distance between two points taking input from the user(pythagorean theorm)"
      ]
    },
    {
      "cell_type": "code",
      "metadata": {
        "colab": {
          "base_uri": "https://localhost:8080/"
        },
        "id": "tDBAhYTdLWYF",
        "outputId": "13bc4f7e-b3ba-4690-96e6-c706cb713c64"
      },
      "source": [
        "x1=int(input(\"enter x1 : \"))\n",
        "x2=int(input(\"enter x2 : \"))\n",
        "y1=int(input(\"enter y1 : \"))\n",
        "y2=int(input(\"enter y2 : \"))\n",
        "result= ((((x2 - x1 )**2) + ((y2-y1)**2) )**3.5)\n",
        "print(\"distance between\",(x1,x2),\"and\",(y1,y2),\"is : \",result)"
      ],
      "execution_count": null,
      "outputs": [
        {
          "output_type": "stream",
          "text": [
            "enter x1 : 3\n",
            "enter x2 : 8\n",
            "enter y1 : 4\n",
            "enter y2 : 9\n",
            "distance between (3, 8) and (4, 9) is :  883883.4764831844\n"
          ],
          "name": "stdout"
        }
      ]
    },
    {
      "cell_type": "markdown",
      "metadata": {
        "id": "G7XPiOqbMGI6"
      },
      "source": [
        "**Write a program to implement inheritence and polymorphism**"
      ]
    },
    {
      "cell_type": "code",
      "metadata": {
        "colab": {
          "base_uri": "https://localhost:8080/"
        },
        "id": "sShj_pLZL8Cq",
        "outputId": "ef621442-4fc1-4797-d147-45d23060ee53"
      },
      "source": [
        "#1.)INHERITENCE\n",
        "#1.a)Single inheritence\n",
        "print(\"SINGLE INHERITENCE\")\n",
        "class parent:\n",
        "    def fun1(self):\n",
        "        print(\"function 1\")\n",
        "class child(parent):\n",
        "    def fun2(self):\n",
        "        print(\"function 2\")\n",
        "ob=child()\n",
        "ob.fun1()\n",
        "#1.b)Multiple inheritence\n",
        "print(\"MULTIPLE INHERITENCE\")\n",
        "class parent1:\n",
        "    def fun1(self):\n",
        "        print(\"function 1\")\n",
        "class parent2:\n",
        "    def fun2(self):\n",
        "        print(\"function 2\")\n",
        "class child(parent1,parent2):\n",
        "    def fun3(self):\n",
        "        print(\"function 3\")\n",
        "ob=child()\n",
        "ob.fun1()\n",
        "ob.fun2()\n",
        "#1.c)Multilevel inheritence\n",
        "print(\"MULTILEVEL INHERITENCE\")\n",
        "class parent1:\n",
        "    def fun1(self):\n",
        "        print(\"function 1\")\n",
        "class parent2(parent1):\n",
        "    def fun2(self):\n",
        "        print(\"function 2\")\n",
        "class child(parent2):\n",
        "    def fun3(self):\n",
        "        print(\"function 3\")\n",
        "ob=child()\n",
        "ob.fun1()\n",
        "ob.fun2()\n",
        "#1.d)hierarichal inheritence\n",
        "print(\"HIERARICHAL INHERITENCE\")\n",
        "class parent:\n",
        "    def fun1(self):\n",
        "        print(\"function 1\")\n",
        "class child1(parent):\n",
        "    def fun2(self):\n",
        "        print(\"function 2\")\n",
        "class child2(parent):\n",
        "    def fun3(self):\n",
        "        print(\"function 3\")\n",
        "ob=child2()\n",
        "ob.fun1()\n",
        "ob.fun3()\n",
        "#1.e)hybrid inheritence\n",
        "print(\"HYBRID INHERITENCE\")\n",
        "class parent1:\n",
        "    def fun1(self):\n",
        "        print(\"function 1\")\n",
        "class parent2:\n",
        "    def fun4(self):\n",
        "        print(\"function 4\")\n",
        "class child1(parent1):\n",
        "    def fun2(self):\n",
        "        print(\"function 2\")\n",
        "class child2(parent1,parent2):\n",
        "    def fun3(self):\n",
        "        print(\"function 3\")\n",
        "ob=child2()\n",
        "ob.fun1()\n",
        "ob.fun4()\n",
        "print(\"________________\")\n",
        "#2.)polymorphism\n",
        "print(\"POLYMORPHISM\")\n",
        "#overriding a variable\n",
        "class parent:\n",
        "    name=\"shravika\"\n",
        "class child(parent):\n",
        "    name=\"ganduri\"#overriding is done here\n",
        "ob=child()\n",
        "ob.name\n",
        "#overriding a method\n",
        "class parent:\n",
        "    def name(self):\n",
        "        return 0\n",
        "class child(parent):\n",
        "    def name(self):\n",
        "        return 1#overriding is done here\n",
        "ob=child()\n",
        "print(ob.name())\n",
        "ob=parent()\n",
        "print(ob.name())"
      ],
      "execution_count": null,
      "outputs": [
        {
          "output_type": "stream",
          "text": [
            "SINGLE INHERITENCE\n",
            "function 1\n",
            "MULTIPLE INHERITENCE\n",
            "function 1\n",
            "function 2\n",
            "MULTILEVEL INHERITENCE\n",
            "function 1\n",
            "function 2\n",
            "HIERARICHAL INHERITENCE\n",
            "function 1\n",
            "function 3\n",
            "HYBRID INHERITENCE\n",
            "function 1\n",
            "function 4\n",
            "________________\n",
            "POLYMORPHISM\n",
            "1\n",
            "0\n"
          ],
          "name": "stdout"
        }
      ]
    },
    {
      "cell_type": "markdown",
      "metadata": {
        "id": "xx7y1QLJjGXy"
      },
      "source": [
        "b) Write a program to implement static and instance methods,Abstract classes and interfaces"
      ]
    },
    {
      "cell_type": "code",
      "metadata": {
        "colab": {
          "base_uri": "https://localhost:8080/"
        },
        "id": "RXErRAPOjCFZ",
        "outputId": "f3ce35b0-986d-4381-e55d-3fb08a32d291"
      },
      "source": [
        "#Implement static and instance methods\n",
        "print(\"STATIC AND INSTANCE METHODS\")\n",
        "class Shape:\n",
        "    def rectArea(self,l,b):\n",
        "        return(l*b)\n",
        "    @classmethod\n",
        "    def sqArea(cls,s):\n",
        "        return(s*s)\n",
        "    @staticmethod\n",
        "    def CircleArea(r):\n",
        "        return(3.14*r*r)\n",
        "s=Shape()        \n",
        "print(\"Area of Rectangle = \",s.rectArea(2,4))\n",
        "#calling a class method\n",
        "print(\"Area of Square = \",Shape.sqArea(3))\n",
        "#calling a static method\n",
        "print(\"Area of Circle = \",Shape.CircleArea(2))\n",
        "print(\"___________________\")\n",
        "#Abstract class\n",
        "print(\"ABSTRACT CLASS\")\n",
        "from abc import ABC,abstractmethod\n",
        "class Animal(ABC):\n",
        "  @abstractmethod\n",
        "  def eat(self):\n",
        "    pass\n",
        "class Tiger(Animal):\n",
        "  def eat(self):\n",
        "    print(\"non-veg\")\n",
        "class Cow(Animal):\n",
        "  def eat(self):\n",
        "    print(\"veg\")\n",
        "t=Tiger()\n",
        "t.eat()\n",
        "c=Cow()\n",
        "c.eat()"
      ],
      "execution_count": null,
      "outputs": [
        {
          "output_type": "stream",
          "text": [
            "STATIC AND INSTANCE METHODS\n",
            "Area of Rectangle =  8\n",
            "Area of Square =  9\n",
            "Area of Circle =  12.56\n",
            "___________________\n",
            "ABSTRACT CLASS\n",
            "non-veg\n",
            "veg\n"
          ],
          "name": "stdout"
        }
      ]
    },
    {
      "cell_type": "markdown",
      "metadata": {
        "id": "tRFx3mk9kG-d"
      },
      "source": [
        "c) Write a program to compute distance between two points taking input from the user(pythagorean theorm)"
      ]
    },
    {
      "cell_type": "code",
      "metadata": {
        "colab": {
          "base_uri": "https://localhost:8080/"
        },
        "id": "bg25Vm_Rj-PL",
        "outputId": "3b6b4860-4d16-407f-f6d6-5d81f3856436"
      },
      "source": [
        "x1=int(input(\"enter x1 : \"))\n",
        "x2=int(input(\"enter x2 : \"))\n",
        "y1=int(input(\"enter y1 : \"))\n",
        "y2=int(input(\"enter y2 : \"))\n",
        "result= ((((x2 - x1 )**2) + ((y2-y1)**2) )**0.5)\n",
        "print(\"distance between\",(x1,x2),\"and\",(y1,y2),\"is : \",result)"
      ],
      "execution_count": null,
      "outputs": [
        {
          "output_type": "stream",
          "text": [
            "enter x1 : 2\n",
            "enter x2 : 4\n",
            "enter y1 : 5\n",
            "enter y2 : 9\n",
            "distance between (2, 4) and (5, 9) is :  4.47213595499958\n"
          ],
          "name": "stdout"
        }
      ]
    },
    {
      "cell_type": "markdown",
      "metadata": {
        "id": "19J1WwGENHed"
      },
      "source": [
        "# **Exercise**:**4**"
      ]
    },
    {
      "cell_type": "markdown",
      "metadata": {
        "id": "uK9NeTQwk6VW"
      },
      "source": [
        "a) Write a program to implement inheritence and polymorphism"
      ]
    },
    {
      "cell_type": "code",
      "metadata": {
        "colab": {
          "base_uri": "https://localhost:8080/"
        },
        "id": "HnTnAsbDkMxN",
        "outputId": "a7805a94-2bb2-42d3-da4f-247b690c8e58"
      },
      "source": [
        "#1.)INHERITENCE\n",
        "#1.a)Single inheritence\n",
        "print(\"SINGLE INHERITENCE\")\n",
        "class parent:\n",
        "    def fun1(self):\n",
        "        print(\"function 1\")\n",
        "class child(parent):\n",
        "    def fun2(self):\n",
        "        print(\"function 2\")\n",
        "ob=child()\n",
        "ob.fun1()\n",
        "#1.b)Multiple inheritence\n",
        "print(\"MULTIPLE INHERITENCE\")\n",
        "class parent1:\n",
        "    def fun1(self):\n",
        "        print(\"function 1\")\n",
        "class parent2:\n",
        "    def fun2(self):\n",
        "        print(\"function 2\")\n",
        "class child(parent1,parent2):\n",
        "    def fun3(self):\n",
        "        print(\"function 3\")\n",
        "ob=child()\n",
        "ob.fun1()\n",
        "ob.fun2()\n",
        "#1.c)Multilevel inheritence\n",
        "print(\"MULTILEVEL INHERITENCE\")\n",
        "class parent1:\n",
        "    def fun1(self):\n",
        "        print(\"function 1\")\n",
        "class parent2(parent1):\n",
        "    def fun2(self):\n",
        "        print(\"function 2\")\n",
        "class child(parent2):\n",
        "    def fun3(self):\n",
        "        print(\"function 3\")\n",
        "ob=child()\n",
        "ob.fun1()\n",
        "ob.fun2()\n",
        "#1.d)hierarichal inheritence\n",
        "print(\"HIERARICHAL INHERITENCE\")\n",
        "class parent:\n",
        "    def fun1(self):\n",
        "        print(\"function 1\")\n",
        "class child1(parent):\n",
        "    def fun2(self):\n",
        "        print(\"function 2\")\n",
        "class child2(parent):\n",
        "    def fun3(self):\n",
        "        print(\"function 3\")\n",
        "ob=child2()\n",
        "ob.fun1()\n",
        "ob.fun3()\n",
        "#1.e)hybrid inheritence\n",
        "print(\"HYBRID INHERITENCE\")\n",
        "class parent1:\n",
        "    def fun1(self):\n",
        "        print(\"function 1\")\n",
        "class parent2:\n",
        "    def fun4(self):\n",
        "        print(\"function 4\")\n",
        "class child1(parent1):\n",
        "    def fun2(self):\n",
        "        print(\"function 2\")\n",
        "class child2(parent1,parent2):\n",
        "    def fun3(self):\n",
        "        print(\"function 3\")\n",
        "ob=child2()\n",
        "ob.fun1()\n",
        "ob.fun4()\n",
        "print(\"________________\")\n",
        "#2.)polymorphism\n",
        "print(\"POLYMORPHISM\")\n",
        "#overriding a variable\n",
        "class parent:\n",
        "    name=\"shravika\"\n",
        "class child(parent):\n",
        "    name=\"ganduri\"#overriding is done here\n",
        "ob=child()\n",
        "ob.name\n",
        "#overriding a method\n",
        "class parent:\n",
        "    def name(self):\n",
        "        return 0\n",
        "class child(parent):\n",
        "    def name(self):\n",
        "        return 1#overriding is done here\n",
        "ob=child()\n",
        "print(ob.name())\n",
        "ob=parent()\n",
        "print(ob.name())"
      ],
      "execution_count": null,
      "outputs": [
        {
          "output_type": "stream",
          "text": [
            "SINGLE INHERITENCE\n",
            "function 1\n",
            "MULTIPLE INHERITENCE\n",
            "function 1\n",
            "function 2\n",
            "MULTILEVEL INHERITENCE\n",
            "function 1\n",
            "function 2\n",
            "HIERARICHAL INHERITENCE\n",
            "function 1\n",
            "function 3\n",
            "HYBRID INHERITENCE\n",
            "function 1\n",
            "function 4\n",
            "________________\n",
            "POLYMORPHISM\n",
            "1\n",
            "0\n"
          ],
          "name": "stdout"
        }
      ]
    },
    {
      "cell_type": "markdown",
      "metadata": {
        "id": "_v21kVEqlU9O"
      },
      "source": [
        "b) Write a program to implement files"
      ]
    },
    {
      "cell_type": "markdown",
      "metadata": {
        "id": "Ji2UpC6glhD4"
      },
      "source": [
        "1)FILE ATTRIBUTES"
      ]
    },
    {
      "cell_type": "code",
      "metadata": {
        "colab": {
          "base_uri": "https://localhost:8080/"
        },
        "id": "hpglLnc8lWJK",
        "outputId": "1fd5b047-d063-4090-e4a8-8beb5cd4c8b7"
      },
      "source": [
        "file=open(\"/content/cleans.csv.zip\",\"r\")\n",
        "print(\"Name of the file:\",file.name)\n",
        "print(\"File open status:\",file.closed)\n",
        "print(\"File opened mode:\",file.mode)\n",
        "print(\"Content in the file:\")\n",
        "file.close()\n",
        "print(\"File open status:\",file.closed)"
      ],
      "execution_count": null,
      "outputs": [
        {
          "output_type": "stream",
          "text": [
            "Name of the file: /content/cleans.csv.zip\n",
            "File open status: False\n",
            "File opened mode: r\n",
            "Content in the file:\n",
            "File open status: True\n"
          ],
          "name": "stdout"
        }
      ]
    },
    {
      "cell_type": "code",
      "metadata": {
        "id": "hvegUBv9f7ho"
      },
      "source": [
        ""
      ],
      "execution_count": null,
      "outputs": []
    },
    {
      "cell_type": "markdown",
      "metadata": {
        "id": "m08VpdEWnPgG"
      },
      "source": [
        "2)FILE OPERATIONS"
      ]
    },
    {
      "cell_type": "code",
      "metadata": {
        "colab": {
          "base_uri": "https://localhost:8080/"
        },
        "id": "ygTscbrVnTY8",
        "outputId": "1cc797f5-bbd0-454b-9e1d-958b618213b8"
      },
      "source": [
        "import os\n",
        "f1=open(\"text2.txt\",\"w\")\n",
        "f1.write(\"Welcome to Artificial intelligence\")\n",
        "f1.close()\n",
        "print(\"New file \\\"text2.txt\\\"is created in the path.\")\n",
        "f1=open(\"text2.txt\",\"a\")\n",
        "f1.write(\" Happy Learning\")\n",
        "f1.close()\n",
        "f1=open(\"text2.txt\",\"r\")\n",
        "print(\"Filepointer position when it was opened: \", f1.tell())\n",
        "f1.seek(3)\n",
        "print(\"Filepointer position after seek(): \", f1.tell())\n",
        "print(\"Contents in file: \" , f1.read())\n",
        "print(\"Filepointer position after read(): \", f1.tell())\n",
        "f1.close()\n",
        "os.rename(\"text2.txt\",\"text3.txt\")\n",
        "os.remove(\"text3.txt\")"
      ],
      "execution_count": null,
      "outputs": [
        {
          "output_type": "stream",
          "text": [
            "New file \"text2.txt\"is created in the path.\n",
            "Filepointer position when it was opened:  0\n",
            "Filepointer position after seek():  3\n",
            "Contents in file:  come to Artificial intelligence Happy Learning\n",
            "Filepointer position after read():  49\n"
          ],
          "name": "stdout"
        }
      ]
    },
    {
      "cell_type": "markdown",
      "metadata": {
        "id": "3khxt5XynwdO"
      },
      "source": [
        "c) Write a program to illustrate handling"
      ]
    },
    {
      "cell_type": "code",
      "metadata": {
        "colab": {
          "base_uri": "https://localhost:8080/"
        },
        "id": "EDIwlv5wnxxi",
        "outputId": "2ef2895f-3514-4f20-9487-2c05cfb638e1"
      },
      "source": [
        "try:\n",
        "    num=int(input(\"Enter numerator: \"))\n",
        "    den=int(input(\"enter denominator: \"))\n",
        "    q=num/den\n",
        "    print(\"Qutioent= \",q)\n",
        "except ZeroDivisionError:\n",
        "    print(\"Denominator is zero\")\n",
        "except ValueError:\n",
        "    print(\"Please eneter only digits\")\n",
        "finally:\n",
        "    print(\"this is finally block. this will be executed all the time..\");"
      ],
      "execution_count": null,
      "outputs": [
        {
          "output_type": "stream",
          "text": [
            "Enter numerator: 54\n",
            "enter denominator: 6\n",
            "Qutioent=  9.0\n",
            "this is finally block. this will be executed all the time..\n"
          ],
          "name": "stdout"
        }
      ]
    },
    {
      "cell_type": "markdown",
      "metadata": {
        "id": "-UfWFT8j59sT"
      },
      "source": [
        "# **Exercise**:**5**"
      ]
    },
    {
      "cell_type": "markdown",
      "metadata": {
        "id": "jEdCwUo47nz3"
      },
      "source": [
        "b)Program to calculate entrophy and information gain"
      ]
    },
    {
      "cell_type": "markdown",
      "metadata": {
        "id": "u8v8WoSd7tV2"
      },
      "source": [
        "1.ENTROPY       "
      ]
    },
    {
      "cell_type": "code",
      "metadata": {
        "colab": {
          "base_uri": "https://localhost:8080/"
        },
        "id": "jFZ3hAkp6vv7",
        "outputId": "4e8f7d8f-55ec-461f-9a80-30426b432b62"
      },
      "source": [
        "#Entropy is randomness\n",
        "!pip3 install scipy"
      ],
      "execution_count": null,
      "outputs": [
        {
          "output_type": "stream",
          "text": [
            "Requirement already satisfied: scipy in /usr/local/lib/python3.7/dist-packages (1.4.1)\n",
            "Requirement already satisfied: numpy>=1.13.3 in /usr/local/lib/python3.7/dist-packages (from scipy) (1.19.5)\n"
          ],
          "name": "stdout"
        }
      ]
    },
    {
      "cell_type": "code",
      "metadata": {
        "id": "y8oZpH3Yf9Ij"
      },
      "source": [
        "import pandas as pd\n",
        "import numpy as np\n",
        "from scipy.stats import entropy as en"
      ],
      "execution_count": null,
      "outputs": []
    },
    {
      "cell_type": "code",
      "metadata": {
        "id": "Lf0QGxy2ghnC"
      },
      "source": [
        "a=[1,2,3,4,1,5]"
      ],
      "execution_count": null,
      "outputs": []
    },
    {
      "cell_type": "code",
      "metadata": {
        "colab": {
          "base_uri": "https://localhost:8080/"
        },
        "id": "H1aOsn6OKXdE",
        "outputId": "46336876-7abf-43b8-a8b8-6be97b4445bc"
      },
      "source": [
        "b=pd.Series(a)\n",
        "b"
      ],
      "execution_count": null,
      "outputs": [
        {
          "output_type": "execute_result",
          "data": {
            "text/plain": [
              "0    1\n",
              "1    2\n",
              "2    3\n",
              "3    4\n",
              "4    1\n",
              "5    5\n",
              "dtype: int64"
            ]
          },
          "metadata": {
            "tags": []
          },
          "execution_count": 23
        }
      ]
    },
    {
      "cell_type": "code",
      "metadata": {
        "colab": {
          "base_uri": "https://localhost:8080/"
        },
        "id": "jh84KvfjhQ_7",
        "outputId": "c5ab888b-519f-44fe-922a-13f12a097520"
      },
      "source": [
        "data=b.value_counts()\n",
        "en(data)"
      ],
      "execution_count": null,
      "outputs": [
        {
          "output_type": "execute_result",
          "data": {
            "text/plain": [
              "1.5607104090414063"
            ]
          },
          "metadata": {
            "tags": []
          },
          "execution_count": 24
        }
      ]
    },
    {
      "cell_type": "markdown",
      "metadata": {
        "id": "5iZlprv-iJ5F"
      },
      "source": [
        "2)INFORMATION GAIN"
      ]
    },
    {
      "cell_type": "code",
      "metadata": {
        "colab": {
          "base_uri": "https://localhost:8080/"
        },
        "id": "CHqH3mDmh-nf",
        "outputId": "77c06a13-d051-431b-b733-560048599618"
      },
      "source": [
        "from math import log2\n",
        "\n",
        "def entropy(class0, class1):\n",
        "\treturn -(class0 * log2(class0) + class1 * log2(class1))\n",
        "\n",
        "class0 = 14 /20\n",
        "class1 = 8 /20\n",
        "# calculate entropy before the change\n",
        "s_entropy = entropy(class0, class1)\n",
        "print('Dataset Entropy: %.3f bits' % s_entropy)\n",
        "\n",
        "# split 1 (split via value1)\n",
        "s1_class0 = 6 / 8\n",
        "s1_class1 = 2 / 8\n",
        "# calculate the entropy of the first group\n",
        "s1_entropy = entropy(s1_class0, s1_class1)\n",
        "print('Group1 Entropy: %.3f bits' % s1_entropy)\n",
        "\n",
        "# split 2  (split via value2)\n",
        "s2_class0 = 5 / 10\n",
        "s2_class1 = 5 / 10\n",
        "# calculate the entropy of the second group\n",
        "s2_entropy = entropy(s2_class0, s2_class1)\n",
        "print('Group2 Entropy: %.3f bits' % s2_entropy)\n",
        "\n",
        "# calculate the information gain\n",
        "gain = s_entropy - (8/20 * s1_entropy + 12/20 * s2_entropy)\n",
        "print('Information Gain: %.3f bits' % gain)"
      ],
      "execution_count": null,
      "outputs": [
        {
          "output_type": "stream",
          "text": [
            "Dataset Entropy: 0.889 bits\n",
            "Group1 Entropy: 0.811 bits\n",
            "Group2 Entropy: 1.000 bits\n",
            "Information Gain: -0.036 bits\n"
          ],
          "name": "stdout"
        }
      ]
    },
    {
      "cell_type": "markdown",
      "metadata": {
        "id": "pPDbPymWjHp9"
      },
      "source": [
        "c)Program to implement perceptron"
      ]
    },
    {
      "cell_type": "code",
      "metadata": {
        "id": "0bswntc_jD9P"
      },
      "source": [
        "import numpy as np \n",
        "import pandas as pd \n",
        "import matplotlib.pyplot as plt\n",
        "\n",
        "\n",
        "class Perceptron():\n",
        "    def __init__(self,eta=0.01,n_iter=10):\n",
        "        self.eta = eta\n",
        "        self.n_iter = n_iter \n",
        "        \n",
        "    def fit(self,X,y):\n",
        "        self.w_ = np.zeros(1+X.shape[1])\n",
        "        self.errors_ = []\n",
        "        h = 0\n",
        "        for _ in range(self.n_iter):\n",
        "            errors = 0\n",
        "            for xi, target in zip(X,y):\n",
        "                update = self.eta*(target-self.predict(xi))\n",
        "                self.w_[1:]+=update*xi\n",
        "                self.w_[0]+=update\n",
        "                errors+=int(update != 0.0)\n",
        "                h+=1\n",
        "            self.errors_.append(errors)\n",
        "        print(\"value of h: \",h)\n",
        "        return self\n",
        "    \n",
        "    def net_input(self,X):\n",
        "        return np.dot(X,self.w_[1:])+self.w_[0]\n",
        "    \n",
        "    def predict(self,X):\n",
        "        return np.where(self.net_input(X)>=0.0,1,-1)"
      ],
      "execution_count": null,
      "outputs": []
    },
    {
      "cell_type": "code",
      "metadata": {
        "id": "EPqWejDOkBux"
      },
      "source": [
        "data = pd.read_csv(\"/content/iris.csv\",header=None)\n",
        "y = data.iloc[0:100,4].values\n",
        "y = np.where(y == 'Iris-setosa',-1,1)\n",
        "X = data.iloc[0:100,[0,2]].values"
      ],
      "execution_count": null,
      "outputs": []
    },
    {
      "cell_type": "code",
      "metadata": {
        "colab": {
          "base_uri": "https://localhost:8080/",
          "height": 279
        },
        "id": "YmKfu_rPmALl",
        "outputId": "a3fb6c3e-7643-4a13-c396-a77a95fff074"
      },
      "source": [
        "plt.scatter(X[:50,0],X[:50,1],color='red',marker='o',label='setosa')\n",
        "plt.scatter(X[50:100,0],X[50:100,1],color='blue',marker='x',label='versicolor')\n",
        "plt.xlabel('petal length')\n",
        "plt.ylabel('sepal length')\n",
        "plt.legend(loc='upper left')\n",
        "plt.show()"
      ],
      "execution_count": null,
      "outputs": [
        {
          "output_type": "display_data",
          "data": {
            "image/png": "[encoded data removed]",
            "text/plain": [
              "<Figure size 432x288 with 1 Axes>"
            ]
          },
          "metadata": {
            "tags": [],
            "needs_background": "light"
          }
        }
      ]
    },
    {
      "cell_type": "code",
      "metadata": {
        "colab": {
          "base_uri": "https://localhost:8080/",
          "height": 296
        },
        "id": "GQk70tojmgkx",
        "outputId": "7b427121-44d5-4ec8-bee1-7add636b0ce9"
      },
      "source": [
        "ppn = Perceptron(eta=0.1, n_iter=10)\n",
        "ppn.fit(X,y)\n",
        "plt.plot(range(1, len(ppn.errors_)+1), ppn.errors_,marker='o')\n",
        "plt.xlabel('Epochs')\n",
        "plt.ylabel(\"Number of misclassifications\")\n",
        "plt.show()"
      ],
      "execution_count": null,
      "outputs": [
        {
          "output_type": "stream",
          "text": [
            "value of h:  1000\n"
          ],
          "name": "stdout"
        },
        {
          "output_type": "display_data",
          "data": {
            "image/png": "[encoded data removed]",
            "text/plain": [
              "<Figure size 432x288 with 1 Axes>"
            ]
          },
          "metadata": {
            "tags": [],
            "needs_background": "light"
          }
        }
      ]
    },
    {
      "cell_type": "markdown",
      "metadata": {
        "id": "KflToKyenEI7"
      },
      "source": [
        "# **Exercise**:**6**"
      ]
    },
    {
      "cell_type": "markdown",
      "metadata": {
        "id": "OmlsyVMvnOxm"
      },
      "source": [
        "a)Generate a decision tree.Find thr depth of decision treea and observe the results then propose some changes in DecisionTreeClassifier function to limit               \n",
        "rep"
      ]
    },
    {
      "cell_type": "code",
      "metadata": {
        "id": "SZdCTizIm2R9"
      },
      "source": [
        "import pandas as pd\n",
        "import numpy as np\n",
        "import matplotlib.pyplot as plt\n",
        "import seaborn as sns\n",
        "from sklearn.metrics import accuracy_score\n",
        "from sklearn.metrics import plot_confusion_matrix\n",
        "from sklearn import tree"
      ],
      "execution_count": null,
      "outputs": []
    },
    {
      "cell_type": "code",
      "metadata": {
        "colab": {
          "base_uri": "https://localhost:8080/",
          "height": 204
        },
        "id": "xAHugWP2ndv8",
        "outputId": "ce01b44b-5d8b-4094-ce18-2cde2567249e"
      },
      "source": [
        "data=pd.read_csv(\"/content/College_admission.csv\")\n",
        "data.head()"
      ],
      "execution_count": null,
      "outputs": [
        {
          "output_type": "execute_result",
          "data": {
            "text/html": [
              "<div>\n",
              "<style scoped>\n",
              "    .dataframe tbody tr th:only-of-type {\n",
              "        vertical-align: middle;\n",
              "    }\n",
              "\n",
              "    .dataframe tbody tr th {\n",
              "        vertical-align: top;\n",
              "    }\n",
              "\n",
              "    .dataframe thead th {\n",
              "        text-align: right;\n",
              "    }\n",
              "</style>\n",
              "<table border=\"1\" class=\"dataframe\">\n",
              "  <thead>\n",
              "    <tr style=\"text-align: right;\">\n",
              "      <th></th>\n",
              "      <th>admit</th>\n",
              "      <th>gre</th>\n",
              "      <th>gpa</th>\n",
              "      <th>ses</th>\n",
              "      <th>Gender_Male</th>\n",
              "      <th>Race</th>\n",
              "      <th>rank</th>\n",
              "    </tr>\n",
              "  </thead>\n",
              "  <tbody>\n",
              "    <tr>\n",
              "      <th>0</th>\n",
              "      <td>0</td>\n",
              "      <td>380</td>\n",
              "      <td>3.61</td>\n",
              "      <td>1</td>\n",
              "      <td>0</td>\n",
              "      <td>3</td>\n",
              "      <td>3</td>\n",
              "    </tr>\n",
              "    <tr>\n",
              "      <th>1</th>\n",
              "      <td>1</td>\n",
              "      <td>660</td>\n",
              "      <td>3.67</td>\n",
              "      <td>2</td>\n",
              "      <td>0</td>\n",
              "      <td>2</td>\n",
              "      <td>3</td>\n",
              "    </tr>\n",
              "    <tr>\n",
              "      <th>2</th>\n",
              "      <td>1</td>\n",
              "      <td>800</td>\n",
              "      <td>4.00</td>\n",
              "      <td>2</td>\n",
              "      <td>0</td>\n",
              "      <td>2</td>\n",
              "      <td>1</td>\n",
              "    </tr>\n",
              "    <tr>\n",
              "      <th>3</th>\n",
              "      <td>1</td>\n",
              "      <td>640</td>\n",
              "      <td>3.19</td>\n",
              "      <td>1</td>\n",
              "      <td>1</td>\n",
              "      <td>2</td>\n",
              "      <td>4</td>\n",
              "    </tr>\n",
              "    <tr>\n",
              "      <th>4</th>\n",
              "      <td>0</td>\n",
              "      <td>520</td>\n",
              "      <td>2.93</td>\n",
              "      <td>3</td>\n",
              "      <td>1</td>\n",
              "      <td>2</td>\n",
              "      <td>4</td>\n",
              "    </tr>\n",
              "  </tbody>\n",
              "</table>\n",
              "</div>"
            ],
            "text/plain": [
              "   admit  gre   gpa  ses  Gender_Male  Race  rank\n",
              "0      0  380  3.61    1            0     3     3\n",
              "1      1  660  3.67    2            0     2     3\n",
              "2      1  800  4.00    2            0     2     1\n",
              "3      1  640  3.19    1            1     2     4\n",
              "4      0  520  2.93    3            1     2     4"
            ]
          },
          "metadata": {
            "tags": []
          },
          "execution_count": 14
        }
      ]
    },
    {
      "cell_type": "code",
      "metadata": {
        "colab": {
          "base_uri": "https://localhost:8080/"
        },
        "id": "wU6W3KGDp3VS",
        "outputId": "6b75ee5f-a5f6-4038-a910-6b0182c5ff89"
      },
      "source": [
        "data.isnull().sum()"
      ],
      "execution_count": null,
      "outputs": [
        {
          "output_type": "execute_result",
          "data": {
            "text/plain": [
              "Unnamed: 0                 0\n",
              "ID                         0\n",
              "Estimated_Insects_Count    0\n",
              "Crop_Type                  0\n",
              "Soil_Type                  0\n",
              "Pesticide_Use_Category     0\n",
              "Number_Doses_Week          0\n",
              "Number_Weeks_Used          0\n",
              "Number_Weeks_Quit          0\n",
              "Season                     0\n",
              "Crop_Damage                0\n",
              "dtype: int64"
            ]
          },
          "metadata": {
            "tags": []
          },
          "execution_count": 8
        }
      ]
    },
    {
      "cell_type": "code",
      "metadata": {
        "colab": {
          "base_uri": "https://localhost:8080/"
        },
        "id": "E151CvNAp7iy",
        "outputId": "f2c79005-5fd0-4814-ddb6-0699e065d77f"
      },
      "source": [
        "print(data.groupby('rank').size())"
      ],
      "execution_count": null,
      "outputs": [
        {
          "output_type": "stream",
          "text": [
            "rank\n",
            "1     61\n",
            "2    151\n",
            "3    121\n",
            "4     67\n",
            "dtype: int64\n"
          ],
          "name": "stdout"
        }
      ]
    },
    {
      "cell_type": "code",
      "metadata": {
        "colab": {
          "base_uri": "https://localhost:8080/",
          "height": 350
        },
        "id": "LN46sWs-qUUf",
        "outputId": "f8cf40de-b08f-4483-a2b0-08e8314ec8d4"
      },
      "source": [
        "sns.countplot('rank',data=data)"
      ],
      "execution_count": null,
      "outputs": [
        {
          "output_type": "stream",
          "text": [
            "/usr/local/lib/python3.7/dist-packages/seaborn/_decorators.py:43: FutureWarning: Pass the following variable as a keyword arg: x. From version 0.12, the only valid positional argument will be `data`, and passing other arguments without an explicit keyword will result in an error or misinterpretation.\n",
            "  FutureWarning\n"
          ],
          "name": "stderr"
        },
        {
          "output_type": "execute_result",
          "data": {
            "text/plain": [
              "<matplotlib.axes._subplots.AxesSubplot at 0x7ffa025bcb10>"
            ]
          },
          "metadata": {
            "tags": []
          },
          "execution_count": 16
        },
        {
          "output_type": "display_data",
          "data": {
            "image/png": "[encoded data removed]",
            "text/plain": [
              "<Figure size 432x288 with 1 Axes>"
            ]
          },
          "metadata": {
            "tags": [],
            "needs_background": "light"
          }
        }
      ]
    },
    {
      "cell_type": "code",
      "metadata": {
        "colab": {
          "base_uri": "https://localhost:8080/",
          "height": 929
        },
        "id": "uaOFi7Mmqdip",
        "outputId": "b253cc48-8015-42f3-acee-6e92aae0bad0"
      },
      "source": [
        "sns.pairplot(data,hue='rank')"
      ],
      "execution_count": null,
      "outputs": [
        {
          "output_type": "execute_result",
          "data": {
            "text/plain": [
              "<seaborn.axisgrid.PairGrid at 0x7ffa023c19d0>"
            ]
          },
          "metadata": {
            "tags": []
          },
          "execution_count": 17
        },
        {
          "output_type": "display_data",
          "data": {
            "image/png": "[encoded data removed]",
            "text/plain": [
              "<Figure size 1122.38x1080 with 42 Axes>"
            ]
          },
          "metadata": {
            "tags": [],
            "needs_background": "light"
          }
        }
      ]
    },
    {
      "cell_type": "code",
      "metadata": {
        "id": "dM42gouHsvq2"
      },
      "source": [
        "x= data.iloc[:, [2,3]].values  \n",
        "y= data.iloc[:, 4].values"
      ],
      "execution_count": null,
      "outputs": []
    },
    {
      "cell_type": "code",
      "metadata": {
        "id": "QecLcFWgs7BW"
      },
      "source": [
        "from sklearn.model_selection import train_test_split  \n",
        "x_train, x_test, y_train, y_test= train_test_split(x, y, test_size= 0.25, random_state=0)"
      ],
      "execution_count": null,
      "outputs": []
    },
    {
      "cell_type": "code",
      "metadata": {
        "id": "LzB7p-VZtKS3"
      },
      "source": [
        "from sklearn.preprocessing import StandardScaler    \n",
        "st_x= StandardScaler()  \n",
        "x_train= st_x.fit_transform(x_train)    \n",
        "x_test= st_x.transform(x_test)"
      ],
      "execution_count": null,
      "outputs": []
    },
    {
      "cell_type": "code",
      "metadata": {
        "id": "6c1SVCLltPTP"
      },
      "source": [
        "from sklearn.tree import DecisionTreeClassifier  \n",
        "classifier= DecisionTreeClassifier(criterion='entropy', random_state=0)"
      ],
      "execution_count": null,
      "outputs": []
    },
    {
      "cell_type": "code",
      "metadata": {
        "colab": {
          "base_uri": "https://localhost:8080/"
        },
        "id": "WCI-nDILtWuO",
        "outputId": "cd911e54-ae2b-42d7-98c7-3affa9fb157b"
      },
      "source": [
        "classifier.fit(x_train, y_train)"
      ],
      "execution_count": null,
      "outputs": [
        {
          "output_type": "execute_result",
          "data": {
            "text/plain": [
              "DecisionTreeClassifier(ccp_alpha=0.0, class_weight=None, criterion='entropy',\n",
              "                       max_depth=None, max_features=None, max_leaf_nodes=None,\n",
              "                       min_impurity_decrease=0.0, min_impurity_split=None,\n",
              "                       min_samples_leaf=1, min_samples_split=2,\n",
              "                       min_weight_fraction_leaf=0.0, presort='deprecated',\n",
              "                       random_state=0, splitter='best')"
            ]
          },
          "metadata": {
            "tags": []
          },
          "execution_count": 22
        }
      ]
    },
    {
      "cell_type": "code",
      "metadata": {
        "colab": {
          "base_uri": "https://localhost:8080/"
        },
        "id": "0-Zqy4uQtiET",
        "outputId": "e19d2b05-e542-4e6c-8474-0fa277f223c4"
      },
      "source": [
        "y_pred= classifier.predict(x_test)  \n",
        "y_pred"
      ],
      "execution_count": null,
      "outputs": [
        {
          "output_type": "execute_result",
          "data": {
            "text/plain": [
              "array([0, 0, 0, 1, 0, 0, 1, 1, 0, 1, 0, 0, 0, 1, 0, 1, 1, 0, 1, 0, 1, 0,\n",
              "       0, 0, 1, 1, 0, 0, 0, 1, 1, 1, 0, 1, 1, 0, 1, 0, 0, 0, 1, 0, 0, 0,\n",
              "       1, 0, 1, 0, 1, 0, 0, 0, 1, 1, 0, 1, 1, 1, 0, 0, 0, 1, 1, 1, 1, 1,\n",
              "       0, 0, 0, 1, 0, 1, 0, 0, 0, 0, 0, 0, 1, 1, 1, 0, 1, 1, 1, 0, 1, 1,\n",
              "       0, 1, 1, 0, 0, 0, 0, 0, 1, 1, 0, 0])"
            ]
          },
          "metadata": {
            "tags": []
          },
          "execution_count": 23
        }
      ]
    },
    {
      "cell_type": "code",
      "metadata": {
        "colab": {
          "base_uri": "https://localhost:8080/"
        },
        "id": "L76u_AGQtvAU",
        "outputId": "4b66ee91-4157-480e-c275-4db2bc3b3a7d"
      },
      "source": [
        "accuracy=accuracy_score(y_test,y_pred)*100\n",
        "accuracy"
      ],
      "execution_count": null,
      "outputs": [
        {
          "output_type": "execute_result",
          "data": {
            "text/plain": [
              "51.0"
            ]
          },
          "metadata": {
            "tags": []
          },
          "execution_count": 25
        }
      ]
    },
    {
      "cell_type": "code",
      "metadata": {
        "colab": {
          "base_uri": "https://localhost:8080/"
        },
        "id": "nShEaMIizkF9",
        "outputId": "92fcdc0f-25fe-4f60-8963-1d1924500e64"
      },
      "source": [
        "from sklearn.metrics import confusion_matrix  \n",
        "cm= confusion_matrix(y_test, y_pred) \n",
        "cm"
      ],
      "execution_count": null,
      "outputs": [
        {
          "output_type": "execute_result",
          "data": {
            "text/plain": [
              "array([[28, 22],\n",
              "       [27, 23]])"
            ]
          },
          "metadata": {
            "tags": []
          },
          "execution_count": 26
        }
      ]
    },
    {
      "cell_type": "code",
      "metadata": {
        "colab": {
          "base_uri": "https://localhost:8080/",
          "height": 312
        },
        "id": "ENkw0-_cz9Qd",
        "outputId": "b9f74400-d753-4929-c7d9-b1a812aded6c"
      },
      "source": [
        "plot_confusion_matrix(classifier,x_test,y_test)\n",
        "plt.title('Confusion Matrix')"
      ],
      "execution_count": null,
      "outputs": [
        {
          "output_type": "execute_result",
          "data": {
            "text/plain": [
              "Text(0.5, 1.0, 'Confusion Matrix')"
            ]
          },
          "metadata": {
            "tags": []
          },
          "execution_count": 27
        },
        {
          "output_type": "display_data",
          "data": {
            "image/png": "[encoded data removed]",
            "text/plain": [
              "<Figure size 432x288 with 2 Axes>"
            ]
          },
          "metadata": {
            "tags": [],
            "needs_background": "light"
          }
        }
      ]
    },
    {
      "cell_type": "code",
      "metadata": {
        "colab": {
          "base_uri": "https://localhost:8080/"
        },
        "id": "kP_0Glko0ANl",
        "outputId": "2868e62c-349d-451d-fce1-86914b67beef"
      },
      "source": [
        "tree.plot_tree(classifier)"
      ],
      "execution_count": null,
      "outputs": [
        {
          "output_type": "execute_result",
          "data": {
            "text/plain": [
              "[Text(38.321630859375006, 212.71304347826086, 'X[0] <= -2.44\\nentropy = 0.997\\nsamples = 300\\nvalue = [160, 140]'),\n",
              " Text(34.834130859375, 203.2591304347826, 'entropy = 0.0\\nsamples = 3\\nvalue = [0, 3]'),\n",
              " Text(41.809130859375, 203.2591304347826, 'X[0] <= -2.206\\nentropy = 0.996\\nsamples = 297\\nvalue = [160, 137]'),\n",
              " Text(38.321630859375006, 193.80521739130435, 'entropy = 0.0\\nsamples = 2\\nvalue = [2, 0]'),\n",
              " Text(45.296630859375, 193.80521739130435, 'X[0] <= -1.985\\nentropy = 0.996\\nsamples = 295\\nvalue = [158, 137]'),\n",
              " Text(41.809130859375, 184.3513043478261, 'entropy = 0.0\\nsamples = 2\\nvalue = [0, 2]'),\n",
              " Text(48.784130859375004, 184.3513043478261, 'X[0] <= -1.829\\nentropy = 0.996\\nsamples = 293\\nvalue = [158, 135]'),\n",
              " Text(45.296630859375, 174.89739130434782, 'entropy = 0.0\\nsamples = 3\\nvalue = [3, 0]'),\n",
              " Text(52.271630859375, 174.89739130434782, 'X[0] <= -1.777\\nentropy = 0.997\\nsamples = 290\\nvalue = [155, 135]'),\n",
              " Text(48.784130859375004, 165.44347826086957, 'entropy = 0.0\\nsamples = 3\\nvalue = [0, 3]'),\n",
              " Text(55.759130859375006, 165.44347826086957, 'X[0] <= -1.569\\nentropy = 0.995\\nsamples = 287\\nvalue = [155, 132]'),\n",
              " Text(10.4625, 155.98956521739132, 'X[0] <= -1.738\\nentropy = 0.65\\nsamples = 6\\nvalue = [5, 1]'),\n",
              " Text(6.9750000000000005, 146.53565217391304, 'X[1] <= 0.629\\nentropy = 1.0\\nsamples = 2\\nvalue = [1, 1]'),\n",
              " Text(3.4875000000000003, 137.08173913043478, 'entropy = 0.0\\nsamples = 1\\nvalue = [1, 0]'),\n",
              " Text(10.4625, 137.08173913043478, 'entropy = 0.0\\nsamples = 1\\nvalue = [0, 1]'),\n",
              " Text(13.950000000000001, 146.53565217391304, 'entropy = 0.0\\nsamples = 4\\nvalue = [4, 0]'),\n",
              " Text(101.05576171875, 155.98956521739132, 'X[0] <= -1.179\\nentropy = 0.997\\nsamples = 281\\nvalue = [150, 131]'),\n",
              " Text(20.925, 146.53565217391304, 'X[1] <= 0.629\\nentropy = 0.946\\nsamples = 22\\nvalue = [8, 14]'),\n",
              " Text(17.4375, 137.08173913043478, 'X[0] <= -1.231\\nentropy = 0.985\\nsamples = 14\\nvalue = [8, 6]'),\n",
              " Text(13.950000000000001, 127.62782608695652, 'X[1] <= -0.596\\nentropy = 0.845\\nsamples = 11\\nvalue = [8, 3]'),\n",
              " Text(10.4625, 118.17391304347825, 'entropy = 0.0\\nsamples = 6\\nvalue = [6, 0]'),\n",
              " Text(17.4375, 118.17391304347825, 'X[0] <= -1.296\\nentropy = 0.971\\nsamples = 5\\nvalue = [2, 3]'),\n",
              " Text(13.950000000000001, 108.72, 'entropy = 0.0\\nsamples = 2\\nvalue = [0, 2]'),\n",
              " Text(20.925, 108.72, 'X[0] <= -1.257\\nentropy = 0.918\\nsamples = 3\\nvalue = [2, 1]'),\n",
              " Text(17.4375, 99.26608695652173, 'entropy = 1.0\\nsamples = 2\\nvalue = [1, 1]'),\n",
              " Text(24.4125, 99.26608695652173, 'entropy = 0.0\\nsamples = 1\\nvalue = [1, 0]'),\n",
              " Text(20.925, 127.62782608695652, 'entropy = 0.0\\nsamples = 3\\nvalue = [0, 3]'),\n",
              " Text(24.4125, 137.08173913043478, 'entropy = 0.0\\nsamples = 8\\nvalue = [0, 8]'),\n",
              " Text(181.1865234375, 146.53565217391304, 'X[1] <= 0.629\\nentropy = 0.993\\nsamples = 259\\nvalue = [142, 117]'),\n",
              " Text(93.39960937500001, 137.08173913043478, 'X[0] <= -0.593\\nentropy = 1.0\\nsamples = 175\\nvalue = [89, 86]'),\n",
              " Text(37.9265625, 127.62782608695652, 'X[0] <= -1.14\\nentropy = 0.946\\nsamples = 33\\nvalue = [12, 21]'),\n",
              " Text(34.439062500000006, 118.17391304347825, 'entropy = 0.0\\nsamples = 1\\nvalue = [1, 0]'),\n",
              " Text(41.4140625, 118.17391304347825, 'X[0] <= -1.075\\nentropy = 0.928\\nsamples = 32\\nvalue = [11, 21]'),\n",
              " Text(37.9265625, 108.72, 'entropy = 0.0\\nsamples = 3\\nvalue = [0, 3]'),\n",
              " Text(44.901562500000004, 108.72, 'X[0] <= -0.893\\nentropy = 0.958\\nsamples = 29\\nvalue = [11, 18]'),\n",
              " Text(31.387500000000003, 99.26608695652173, 'X[1] <= -0.596\\nentropy = 0.994\\nsamples = 11\\nvalue = [6, 5]'),\n",
              " Text(20.925, 89.81217391304348, 'X[0] <= -1.036\\nentropy = 0.971\\nsamples = 5\\nvalue = [2, 3]'),\n",
              " Text(17.4375, 80.35826086956521, 'entropy = 0.0\\nsamples = 1\\nvalue = [0, 1]'),\n",
              " Text(24.4125, 80.35826086956521, 'X[0] <= -0.984\\nentropy = 1.0\\nsamples = 4\\nvalue = [2, 2]'),\n",
              " Text(20.925, 70.90434782608696, 'entropy = 0.0\\nsamples = 1\\nvalue = [1, 0]'),\n",
              " Text(27.900000000000002, 70.90434782608696, 'X[0] <= -0.932\\nentropy = 0.918\\nsamples = 3\\nvalue = [1, 2]'),\n",
              " Text(24.4125, 61.45043478260868, 'entropy = 1.0\\nsamples = 2\\nvalue = [1, 1]'),\n",
              " Text(31.387500000000003, 61.45043478260868, 'entropy = 0.0\\nsamples = 1\\nvalue = [0, 1]'),\n",
              " Text(41.85, 89.81217391304348, 'X[0] <= -0.971\\nentropy = 0.918\\nsamples = 6\\nvalue = [4, 2]'),\n",
              " Text(38.362500000000004, 80.35826086956521, 'X[0] <= -1.036\\nentropy = 1.0\\nsamples = 4\\nvalue = [2, 2]'),\n",
              " Text(34.875, 70.90434782608696, 'entropy = 1.0\\nsamples = 2\\nvalue = [1, 1]'),\n",
              " Text(41.85, 70.90434782608696, 'entropy = 1.0\\nsamples = 2\\nvalue = [1, 1]'),\n",
              " Text(45.337500000000006, 80.35826086956521, 'entropy = 0.0\\nsamples = 2\\nvalue = [2, 0]'),\n",
              " Text(58.415625000000006, 99.26608695652173, 'X[0] <= -0.814\\nentropy = 0.852\\nsamples = 18\\nvalue = [5, 13]'),\n",
              " Text(54.928125, 89.81217391304348, 'entropy = 0.0\\nsamples = 3\\nvalue = [0, 3]'),\n",
              " Text(61.903125, 89.81217391304348, 'X[0] <= -0.632\\nentropy = 0.918\\nsamples = 15\\nvalue = [5, 10]'),\n",
              " Text(58.415625000000006, 80.35826086956521, 'X[0] <= -0.658\\nentropy = 0.961\\nsamples = 13\\nvalue = [5, 8]'),\n",
              " Text(48.825, 70.90434782608696, 'X[0] <= -0.723\\nentropy = 0.991\\nsamples = 9\\nvalue = [4, 5]'),\n",
              " Text(40.10625, 61.45043478260868, 'X[0] <= -0.775\\nentropy = 0.918\\nsamples = 3\\nvalue = [1, 2]'),\n",
              " Text(36.618750000000006, 51.99652173913043, 'entropy = 1.0\\nsamples = 2\\nvalue = [1, 1]'),\n",
              " Text(43.59375, 51.99652173913043, 'entropy = 0.0\\nsamples = 1\\nvalue = [0, 1]'),\n",
              " Text(57.54375, 61.45043478260868, 'X[0] <= -0.684\\nentropy = 1.0\\nsamples = 6\\nvalue = [3, 3]'),\n",
              " Text(50.56875, 51.99652173913043, 'X[1] <= -0.596\\nentropy = 1.0\\nsamples = 2\\nvalue = [1, 1]'),\n",
              " Text(47.081250000000004, 42.54260869565218, 'entropy = 0.0\\nsamples = 1\\nvalue = [1, 0]'),\n",
              " Text(54.056250000000006, 42.54260869565218, 'entropy = 0.0\\nsamples = 1\\nvalue = [0, 1]'),\n",
              " Text(64.51875000000001, 51.99652173913043, 'X[1] <= -0.596\\nentropy = 1.0\\nsamples = 4\\nvalue = [2, 2]'),\n",
              " Text(61.03125000000001, 42.54260869565218, 'entropy = 0.0\\nsamples = 1\\nvalue = [0, 1]'),\n",
              " Text(68.00625000000001, 42.54260869565218, 'entropy = 0.918\\nsamples = 3\\nvalue = [2, 1]'),\n",
              " Text(68.00625000000001, 70.90434782608696, 'X[1] <= -0.596\\nentropy = 0.811\\nsamples = 4\\nvalue = [1, 3]'),\n",
              " Text(64.51875000000001, 61.45043478260868, 'entropy = 0.918\\nsamples = 3\\nvalue = [1, 2]'),\n",
              " Text(71.49375, 61.45043478260868, 'entropy = 0.0\\nsamples = 1\\nvalue = [0, 1]'),\n",
              " Text(65.390625, 80.35826086956521, 'entropy = 0.0\\nsamples = 2\\nvalue = [0, 2]'),\n",
              " Text(148.87265625, 127.62782608695652, 'X[0] <= -0.541\\nentropy = 0.995\\nsamples = 142\\nvalue = [77, 65]'),\n",
              " Text(145.38515625000002, 118.17391304347825, 'entropy = 0.0\\nsamples = 3\\nvalue = [3, 0]'),\n",
              " Text(152.36015625000002, 118.17391304347825, 'X[0] <= -0.502\\nentropy = 0.997\\nsamples = 139\\nvalue = [74, 65]'),\n",
              " Text(148.87265625, 108.72, 'entropy = 0.811\\nsamples = 4\\nvalue = [1, 3]'),\n",
              " Text(155.84765625, 108.72, 'X[0] <= 0.226\\nentropy = 0.995\\nsamples = 135\\nvalue = [73, 62]'),\n",
              " Text(107.24062500000001, 99.26608695652173, 'X[1] <= -0.596\\nentropy = 0.958\\nsamples = 50\\nvalue = [31, 19]'),\n",
              " Text(88.93125, 89.81217391304348, 'X[0] <= -0.242\\nentropy = 0.795\\nsamples = 25\\nvalue = [19, 6]'),\n",
              " Text(78.46875, 80.35826086956521, 'X[0] <= -0.333\\nentropy = 0.991\\nsamples = 9\\nvalue = [5, 4]'),\n",
              " Text(74.98125, 70.90434782608696, 'entropy = 0.0\\nsamples = 4\\nvalue = [4, 0]'),\n",
              " Text(81.95625000000001, 70.90434782608696, 'X[0] <= -0.268\\nentropy = 0.722\\nsamples = 5\\nvalue = [1, 4]'),\n",
              " Text(78.46875, 61.45043478260868, 'entropy = 0.0\\nsamples = 3\\nvalue = [0, 3]'),\n",
              " Text(85.44375000000001, 61.45043478260868, 'entropy = 1.0\\nsamples = 2\\nvalue = [1, 1]'),\n",
              " Text(99.39375000000001, 80.35826086956521, 'X[0] <= 0.174\\nentropy = 0.544\\nsamples = 16\\nvalue = [14, 2]'),\n",
              " Text(95.90625000000001, 70.90434782608696, 'X[0] <= 0.135\\nentropy = 0.65\\nsamples = 12\\nvalue = [10, 2]'),\n",
              " Text(92.41875, 61.45043478260868, 'X[0] <= -0.151\\nentropy = 0.439\\nsamples = 11\\nvalue = [10, 1]'),\n",
              " Text(88.93125, 51.99652173913043, 'X[0] <= -0.19\\nentropy = 0.592\\nsamples = 7\\nvalue = [6, 1]'),\n",
              " Text(85.44375000000001, 42.54260869565218, 'entropy = 0.0\\nsamples = 3\\nvalue = [3, 0]'),\n",
              " Text(92.41875, 42.54260869565218, 'entropy = 0.811\\nsamples = 4\\nvalue = [3, 1]'),\n",
              " Text(95.90625000000001, 51.99652173913043, 'entropy = 0.0\\nsamples = 4\\nvalue = [4, 0]'),\n",
              " Text(99.39375000000001, 61.45043478260868, 'entropy = 0.0\\nsamples = 1\\nvalue = [0, 1]'),\n",
              " Text(102.88125000000001, 70.90434782608696, 'entropy = 0.0\\nsamples = 4\\nvalue = [4, 0]'),\n",
              " Text(125.55000000000001, 89.81217391304348, 'X[0] <= 0.083\\nentropy = 0.999\\nsamples = 25\\nvalue = [12, 13]'),\n",
              " Text(116.83125000000001, 80.35826086956521, 'X[0] <= -0.294\\nentropy = 0.985\\nsamples = 21\\nvalue = [9, 12]'),\n",
              " Text(109.85625, 70.90434782608696, 'X[0] <= -0.372\\nentropy = 0.918\\nsamples = 6\\nvalue = [4, 2]'),\n",
              " Text(106.36875, 61.45043478260868, 'X[0] <= -0.437\\nentropy = 0.918\\nsamples = 3\\nvalue = [1, 2]'),\n",
              " Text(102.88125000000001, 51.99652173913043, 'entropy = 1.0\\nsamples = 2\\nvalue = [1, 1]'),\n",
              " Text(109.85625, 51.99652173913043, 'entropy = 0.0\\nsamples = 1\\nvalue = [0, 1]'),\n",
              " Text(113.34375000000001, 61.45043478260868, 'entropy = 0.0\\nsamples = 3\\nvalue = [3, 0]'),\n",
              " Text(123.80625, 70.90434782608696, 'X[0] <= -0.216\\nentropy = 0.918\\nsamples = 15\\nvalue = [5, 10]'),\n",
              " Text(120.31875000000001, 61.45043478260868, 'entropy = 0.0\\nsamples = 2\\nvalue = [0, 2]'),\n",
              " Text(127.29375, 61.45043478260868, 'X[0] <= 0.044\\nentropy = 0.961\\nsamples = 13\\nvalue = [5, 8]'),\n",
              " Text(123.80625, 51.99652173913043, 'X[0] <= -0.008\\nentropy = 0.98\\nsamples = 12\\nvalue = [5, 7]'),\n",
              " Text(116.83125000000001, 42.54260869565218, 'X[0] <= -0.06\\nentropy = 0.918\\nsamples = 9\\nvalue = [3, 6]'),\n",
              " Text(113.34375000000001, 33.0886956521739, 'X[0] <= -0.138\\nentropy = 0.954\\nsamples = 8\\nvalue = [3, 5]'),\n",
              " Text(106.36875, 23.634782608695645, 'X[0] <= -0.177\\nentropy = 0.811\\nsamples = 4\\nvalue = [1, 3]'),\n",
              " Text(102.88125000000001, 14.180869565217392, 'entropy = 0.918\\nsamples = 3\\nvalue = [1, 2]'),\n",
              " Text(109.85625, 14.180869565217392, 'entropy = 0.0\\nsamples = 1\\nvalue = [0, 1]'),\n",
              " Text(120.31875000000001, 23.634782608695645, 'X[0] <= -0.112\\nentropy = 1.0\\nsamples = 4\\nvalue = [2, 2]'),\n",
              " Text(116.83125000000001, 14.180869565217392, 'entropy = 0.0\\nsamples = 1\\nvalue = [1, 0]'),\n",
              " Text(123.80625, 14.180869565217392, 'entropy = 0.918\\nsamples = 3\\nvalue = [1, 2]'),\n",
              " Text(120.31875000000001, 33.0886956521739, 'entropy = 0.0\\nsamples = 1\\nvalue = [0, 1]'),\n",
              " Text(130.78125, 42.54260869565218, 'X[0] <= 0.018\\nentropy = 0.918\\nsamples = 3\\nvalue = [2, 1]'),\n",
              " Text(127.29375, 33.0886956521739, 'entropy = 0.0\\nsamples = 1\\nvalue = [1, 0]'),\n",
              " Text(134.26875, 33.0886956521739, 'entropy = 1.0\\nsamples = 2\\nvalue = [1, 1]'),\n",
              " Text(130.78125, 51.99652173913043, 'entropy = 0.0\\nsamples = 1\\nvalue = [0, 1]'),\n",
              " Text(134.26875, 80.35826086956521, 'X[0] <= 0.187\\nentropy = 0.811\\nsamples = 4\\nvalue = [3, 1]'),\n",
              " Text(130.78125, 70.90434782608696, 'entropy = 0.0\\nsamples = 3\\nvalue = [3, 0]'),\n",
              " Text(137.75625000000002, 70.90434782608696, 'entropy = 0.0\\nsamples = 1\\nvalue = [0, 1]'),\n",
              " Text(204.4546875, 99.26608695652173, 'X[0] <= 0.903\\nentropy = 1.0\\nsamples = 85\\nvalue = [42, 43]'),\n",
              " Text(175.24687500000002, 89.81217391304348, 'X[0] <= 0.838\\nentropy = 0.974\\nsamples = 42\\nvalue = [17, 25]'),\n",
              " Text(171.759375, 80.35826086956521, 'X[0] <= 0.486\\nentropy = 0.988\\nsamples = 39\\nvalue = [17, 22]'),\n",
              " Text(144.73125000000002, 70.90434782608696, 'X[0] <= 0.356\\nentropy = 0.845\\nsamples = 11\\nvalue = [3, 8]'),\n",
              " Text(141.24375, 61.45043478260868, 'X[0] <= 0.252\\nentropy = 0.918\\nsamples = 9\\nvalue = [3, 6]'),\n",
              " Text(137.75625000000002, 51.99652173913043, 'entropy = 1.0\\nsamples = 2\\nvalue = [1, 1]'),\n",
              " Text(144.73125000000002, 51.99652173913043, 'X[1] <= -0.596\\nentropy = 0.863\\nsamples = 7\\nvalue = [2, 5]'),\n",
              " Text(141.24375, 42.54260869565218, 'entropy = 0.0\\nsamples = 1\\nvalue = [0, 1]'),\n",
              " Text(148.21875, 42.54260869565218, 'X[0] <= 0.278\\nentropy = 0.918\\nsamples = 6\\nvalue = [2, 4]'),\n",
              " Text(144.73125000000002, 33.0886956521739, 'entropy = 0.0\\nsamples = 1\\nvalue = [0, 1]'),\n",
              " Text(151.70625, 33.0886956521739, 'X[0] <= 0.304\\nentropy = 0.971\\nsamples = 5\\nvalue = [2, 3]'),\n",
              " Text(148.21875, 23.634782608695645, 'entropy = 1.0\\nsamples = 2\\nvalue = [1, 1]'),\n",
              " Text(155.19375000000002, 23.634782608695645, 'X[0] <= 0.33\\nentropy = 0.918\\nsamples = 3\\nvalue = [1, 2]'),\n",
              " Text(151.70625, 14.180869565217392, 'entropy = 0.0\\nsamples = 1\\nvalue = [0, 1]'),\n",
              " Text(158.68125, 14.180869565217392, 'entropy = 1.0\\nsamples = 2\\nvalue = [1, 1]'),\n",
              " Text(148.21875, 61.45043478260868, 'entropy = 0.0\\nsamples = 2\\nvalue = [0, 2]'),\n",
              " Text(198.78750000000002, 70.90434782608696, 'X[1] <= -0.596\\nentropy = 1.0\\nsamples = 28\\nvalue = [14, 14]'),\n",
              " Text(190.06875000000002, 61.45043478260868, 'X[0] <= 0.759\\nentropy = 0.977\\nsamples = 17\\nvalue = [7, 10]'),\n",
              " Text(183.09375, 51.99652173913043, 'X[0] <= 0.668\\nentropy = 0.94\\nsamples = 14\\nvalue = [5, 9]'),\n",
              " Text(179.60625000000002, 42.54260869565218, 'X[0] <= 0.642\\nentropy = 0.98\\nsamples = 12\\nvalue = [5, 7]'),\n",
              " Text(176.11875, 33.0886956521739, 'X[0] <= 0.564\\nentropy = 0.946\\nsamples = 11\\nvalue = [4, 7]'),\n",
              " Text(169.14375, 23.634782608695645, 'X[0] <= 0.538\\nentropy = 0.863\\nsamples = 7\\nvalue = [2, 5]'),\n",
              " Text(165.65625, 14.180869565217392, 'X[0] <= 0.512\\nentropy = 0.971\\nsamples = 5\\nvalue = [2, 3]'),\n",
              " Text(162.16875000000002, 4.726956521739112, 'entropy = 1.0\\nsamples = 2\\nvalue = [1, 1]'),\n",
              " Text(169.14375, 4.726956521739112, 'entropy = 0.918\\nsamples = 3\\nvalue = [1, 2]'),\n",
              " Text(172.63125000000002, 14.180869565217392, 'entropy = 0.0\\nsamples = 2\\nvalue = [0, 2]'),\n",
              " Text(183.09375, 23.634782608695645, 'X[0] <= 0.59\\nentropy = 1.0\\nsamples = 4\\nvalue = [2, 2]'),\n",
              " Text(179.60625000000002, 14.180869565217392, 'entropy = 0.0\\nsamples = 1\\nvalue = [1, 0]'),\n",
              " Text(186.58125, 14.180869565217392, 'X[0] <= 0.616\\nentropy = 0.918\\nsamples = 3\\nvalue = [1, 2]'),\n",
              " Text(183.09375, 4.726956521739112, 'entropy = 0.0\\nsamples = 1\\nvalue = [0, 1]'),\n",
              " Text(190.06875000000002, 4.726956521739112, 'entropy = 1.0\\nsamples = 2\\nvalue = [1, 1]'),\n",
              " Text(183.09375, 33.0886956521739, 'entropy = 0.0\\nsamples = 1\\nvalue = [1, 0]'),\n",
              " Text(186.58125, 42.54260869565218, 'entropy = 0.0\\nsamples = 2\\nvalue = [0, 2]'),\n",
              " Text(197.04375000000002, 51.99652173913043, 'X[0] <= 0.799\\nentropy = 0.918\\nsamples = 3\\nvalue = [2, 1]'),\n",
              " Text(193.55625, 42.54260869565218, 'entropy = 0.0\\nsamples = 1\\nvalue = [1, 0]'),\n",
              " Text(200.53125000000003, 42.54260869565218, 'entropy = 1.0\\nsamples = 2\\nvalue = [1, 1]'),\n",
              " Text(207.50625000000002, 61.45043478260868, 'X[0] <= 0.603\\nentropy = 0.946\\nsamples = 11\\nvalue = [7, 4]'),\n",
              " Text(204.01875, 51.99652173913043, 'entropy = 0.0\\nsamples = 4\\nvalue = [4, 0]'),\n",
              " Text(210.99375, 51.99652173913043, 'X[0] <= 0.773\\nentropy = 0.985\\nsamples = 7\\nvalue = [3, 4]'),\n",
              " Text(207.50625000000002, 42.54260869565218, 'X[0] <= 0.72\\nentropy = 1.0\\nsamples = 6\\nvalue = [3, 3]'),\n",
              " Text(204.01875, 33.0886956521739, 'X[0] <= 0.681\\nentropy = 0.971\\nsamples = 5\\nvalue = [2, 3]'),\n",
              " Text(200.53125000000003, 23.634782608695645, 'X[0] <= 0.642\\nentropy = 1.0\\nsamples = 4\\nvalue = [2, 2]'),\n",
              " Text(197.04375000000002, 14.180869565217392, 'entropy = 1.0\\nsamples = 2\\nvalue = [1, 1]'),\n",
              " Text(204.01875, 14.180869565217392, 'entropy = 1.0\\nsamples = 2\\nvalue = [1, 1]'),\n",
              " Text(207.50625000000002, 23.634782608695645, 'entropy = 0.0\\nsamples = 1\\nvalue = [0, 1]'),\n",
              " Text(210.99375, 33.0886956521739, 'entropy = 0.0\\nsamples = 1\\nvalue = [1, 0]'),\n",
              " Text(214.48125000000002, 42.54260869565218, 'entropy = 0.0\\nsamples = 1\\nvalue = [0, 1]'),\n",
              " Text(178.734375, 80.35826086956521, 'entropy = 0.0\\nsamples = 3\\nvalue = [0, 3]'),\n",
              " Text(233.66250000000002, 89.81217391304348, 'X[0] <= 1.007\\nentropy = 0.981\\nsamples = 43\\nvalue = [25, 18]'),\n",
              " Text(226.68750000000003, 80.35826086956521, 'X[1] <= -0.596\\nentropy = 0.544\\nsamples = 8\\nvalue = [7, 1]'),\n",
              " Text(223.20000000000002, 70.90434782608696, 'X[0] <= 0.929\\nentropy = 1.0\\nsamples = 2\\nvalue = [1, 1]'),\n",
              " Text(219.7125, 61.45043478260868, 'entropy = 0.0\\nsamples = 1\\nvalue = [1, 0]'),\n",
              " Text(226.68750000000003, 61.45043478260868, 'entropy = 0.0\\nsamples = 1\\nvalue = [0, 1]'),\n",
              " Text(230.175, 70.90434782608696, 'entropy = 0.0\\nsamples = 6\\nvalue = [6, 0]'),\n",
              " Text(240.63750000000002, 80.35826086956521, 'X[0] <= 1.085\\nentropy = 0.999\\nsamples = 35\\nvalue = [18, 17]'),\n",
              " Text(237.15, 70.90434782608696, 'entropy = 0.0\\nsamples = 2\\nvalue = [0, 2]'),\n",
              " Text(244.12500000000003, 70.90434782608696, 'X[0] <= 1.514\\nentropy = 0.994\\nsamples = 33\\nvalue = [18, 15]'),\n",
              " Text(235.40625000000003, 61.45043478260868, 'X[0] <= 1.241\\nentropy = 0.937\\nsamples = 17\\nvalue = [11, 6]'),\n",
              " Text(228.43125, 51.99652173913043, 'X[0] <= 1.189\\nentropy = 0.954\\nsamples = 8\\nvalue = [3, 5]'),\n",
              " Text(224.94375000000002, 42.54260869565218, 'X[0] <= 1.111\\nentropy = 1.0\\nsamples = 6\\nvalue = [3, 3]'),\n",
              " Text(217.96875000000003, 33.0886956521739, 'X[1] <= -0.596\\nentropy = 0.918\\nsamples = 3\\nvalue = [2, 1]'),\n",
              " Text(214.48125000000002, 23.634782608695645, 'entropy = 0.0\\nsamples = 1\\nvalue = [1, 0]'),\n",
              " Text(221.45625, 23.634782608695645, 'entropy = 1.0\\nsamples = 2\\nvalue = [1, 1]'),\n",
              " Text(231.91875000000002, 33.0886956521739, 'X[1] <= -0.596\\nentropy = 0.918\\nsamples = 3\\nvalue = [1, 2]'),\n",
              " Text(228.43125, 23.634782608695645, 'entropy = 1.0\\nsamples = 2\\nvalue = [1, 1]'),\n",
              " Text(235.40625000000003, 23.634782608695645, 'entropy = 0.0\\nsamples = 1\\nvalue = [0, 1]'),\n",
              " Text(231.91875000000002, 42.54260869565218, 'entropy = 0.0\\nsamples = 2\\nvalue = [0, 2]'),\n",
              " Text(242.38125000000002, 51.99652173913043, 'X[1] <= -0.596\\nentropy = 0.503\\nsamples = 9\\nvalue = [8, 1]'),\n",
              " Text(238.89375, 42.54260869565218, 'entropy = 0.0\\nsamples = 6\\nvalue = [6, 0]'),\n",
              " Text(245.86875, 42.54260869565218, 'X[0] <= 1.358\\nentropy = 0.918\\nsamples = 3\\nvalue = [2, 1]'),\n",
              " Text(242.38125000000002, 33.0886956521739, 'entropy = 0.0\\nsamples = 1\\nvalue = [1, 0]'),\n",
              " Text(249.35625000000002, 33.0886956521739, 'entropy = 1.0\\nsamples = 2\\nvalue = [1, 1]'),\n",
              " Text(252.84375000000003, 61.45043478260868, 'X[0] <= 1.579\\nentropy = 0.989\\nsamples = 16\\nvalue = [7, 9]'),\n",
              " Text(249.35625000000002, 51.99652173913043, 'entropy = 0.0\\nsamples = 2\\nvalue = [0, 2]'),\n",
              " Text(256.33125, 51.99652173913043, 'X[1] <= -0.596\\nentropy = 1.0\\nsamples = 14\\nvalue = [7, 7]'),\n",
              " Text(252.84375000000003, 42.54260869565218, 'entropy = 0.918\\nsamples = 6\\nvalue = [2, 4]'),\n",
              " Text(259.81875, 42.54260869565218, 'entropy = 0.954\\nsamples = 8\\nvalue = [5, 3]'),\n",
              " Text(268.97343750000005, 137.08173913043478, 'X[0] <= -0.424\\nentropy = 0.95\\nsamples = 84\\nvalue = [53, 31]'),\n",
              " Text(247.6125, 127.62782608695652, 'X[0] <= -0.814\\nentropy = 0.544\\nsamples = 16\\nvalue = [14, 2]'),\n",
              " Text(244.12500000000003, 118.17391304347825, 'X[0] <= -0.854\\nentropy = 0.863\\nsamples = 7\\nvalue = [5, 2]'),\n",
              " Text(240.63750000000002, 108.72, 'X[0] <= -1.01\\nentropy = 0.65\\nsamples = 6\\nvalue = [5, 1]'),\n",
              " Text(237.15, 99.26608695652173, 'entropy = 0.0\\nsamples = 3\\nvalue = [3, 0]'),\n",
              " Text(244.12500000000003, 99.26608695652173, 'X[0] <= -0.919\\nentropy = 0.918\\nsamples = 3\\nvalue = [2, 1]'),\n",
              " Text(240.63750000000002, 89.81217391304348, 'entropy = 1.0\\nsamples = 2\\nvalue = [1, 1]'),\n",
              " Text(247.6125, 89.81217391304348, 'entropy = 0.0\\nsamples = 1\\nvalue = [1, 0]'),\n",
              " Text(247.6125, 108.72, 'entropy = 0.0\\nsamples = 1\\nvalue = [0, 1]'),\n",
              " Text(251.10000000000002, 118.17391304347825, 'entropy = 0.0\\nsamples = 9\\nvalue = [9, 0]'),\n",
              " Text(290.334375, 127.62782608695652, 'X[0] <= 0.174\\nentropy = 0.984\\nsamples = 68\\nvalue = [39, 29]'),\n",
              " Text(268.5375, 118.17391304347825, 'X[0] <= -0.047\\nentropy = 0.918\\nsamples = 24\\nvalue = [16, 8]'),\n",
              " Text(265.05, 108.72, 'X[0] <= -0.086\\nentropy = 0.997\\nsamples = 15\\nvalue = [7, 8]'),\n",
              " Text(261.5625, 99.26608695652173, 'X[0] <= -0.333\\nentropy = 1.0\\nsamples = 14\\nvalue = [7, 7]'),\n",
              " Text(254.5875, 89.81217391304348, 'X[0] <= -0.398\\nentropy = 0.918\\nsamples = 3\\nvalue = [1, 2]'),\n",
              " Text(251.10000000000002, 80.35826086956521, 'entropy = 1.0\\nsamples = 2\\nvalue = [1, 1]'),\n",
              " Text(258.07500000000005, 80.35826086956521, 'entropy = 0.0\\nsamples = 1\\nvalue = [0, 1]'),\n",
              " Text(268.5375, 89.81217391304348, 'X[0] <= -0.242\\nentropy = 0.994\\nsamples = 11\\nvalue = [6, 5]'),\n",
              " Text(265.05, 80.35826086956521, 'entropy = 0.0\\nsamples = 1\\nvalue = [1, 0]'),\n",
              " Text(272.02500000000003, 80.35826086956521, 'X[0] <= -0.138\\nentropy = 1.0\\nsamples = 10\\nvalue = [5, 5]'),\n",
              " Text(265.05, 70.90434782608696, 'X[0] <= -0.177\\nentropy = 0.985\\nsamples = 7\\nvalue = [3, 4]'),\n",
              " Text(261.5625, 61.45043478260868, 'entropy = 1.0\\nsamples = 4\\nvalue = [2, 2]'),\n",
              " Text(268.5375, 61.45043478260868, 'entropy = 0.918\\nsamples = 3\\nvalue = [1, 2]'),\n",
              " Text(279.0, 70.90434782608696, 'X[0] <= -0.112\\nentropy = 0.918\\nsamples = 3\\nvalue = [2, 1]'),\n",
              " Text(275.51250000000005, 61.45043478260868, 'entropy = 0.0\\nsamples = 1\\nvalue = [1, 0]'),\n",
              " Text(282.4875, 61.45043478260868, 'entropy = 1.0\\nsamples = 2\\nvalue = [1, 1]'),\n",
              " Text(268.5375, 99.26608695652173, 'entropy = 0.0\\nsamples = 1\\nvalue = [0, 1]'),\n",
              " Text(272.02500000000003, 108.72, 'entropy = 0.0\\nsamples = 9\\nvalue = [9, 0]'),\n",
              " Text(312.13125, 118.17391304347825, 'X[0] <= 0.759\\nentropy = 0.999\\nsamples = 44\\nvalue = [23, 21]'),\n",
              " Text(303.4125, 108.72, 'X[0] <= 0.551\\nentropy = 0.934\\nsamples = 20\\nvalue = [7, 13]'),\n",
              " Text(299.925, 99.26608695652173, 'X[0] <= 0.213\\nentropy = 0.997\\nsamples = 15\\nvalue = [7, 8]'),\n",
              " Text(296.4375, 89.81217391304348, 'entropy = 0.0\\nsamples = 2\\nvalue = [0, 2]'),\n",
              " Text(303.4125, 89.81217391304348, 'X[0] <= 0.421\\nentropy = 0.996\\nsamples = 13\\nvalue = [7, 6]'),\n",
              " Text(296.4375, 80.35826086956521, 'X[0] <= 0.33\\nentropy = 0.918\\nsamples = 9\\nvalue = [6, 3]'),\n",
              " Text(292.95000000000005, 70.90434782608696, 'X[0] <= 0.304\\nentropy = 1.0\\nsamples = 6\\nvalue = [3, 3]'),\n",
              " Text(289.46250000000003, 61.45043478260868, 'X[0] <= 0.252\\nentropy = 0.811\\nsamples = 4\\nvalue = [3, 1]'),\n",
              " Text(285.975, 51.99652173913043, 'entropy = 0.0\\nsamples = 1\\nvalue = [1, 0]'),\n",
              " Text(292.95000000000005, 51.99652173913043, 'X[0] <= 0.278\\nentropy = 0.918\\nsamples = 3\\nvalue = [2, 1]'),\n",
              " Text(289.46250000000003, 42.54260869565218, 'entropy = 1.0\\nsamples = 2\\nvalue = [1, 1]'),\n",
              " Text(296.4375, 42.54260869565218, 'entropy = 0.0\\nsamples = 1\\nvalue = [1, 0]'),\n",
              " Text(296.4375, 61.45043478260868, 'entropy = 0.0\\nsamples = 2\\nvalue = [0, 2]'),\n",
              " Text(299.925, 70.90434782608696, 'entropy = 0.0\\nsamples = 3\\nvalue = [3, 0]'),\n",
              " Text(310.38750000000005, 80.35826086956521, 'X[0] <= 0.486\\nentropy = 0.811\\nsamples = 4\\nvalue = [1, 3]'),\n",
              " Text(306.90000000000003, 70.90434782608696, 'entropy = 0.0\\nsamples = 2\\nvalue = [0, 2]'),\n",
              " Text(313.875, 70.90434782608696, 'entropy = 1.0\\nsamples = 2\\nvalue = [1, 1]'),\n",
              " Text(306.90000000000003, 99.26608695652173, 'entropy = 0.0\\nsamples = 5\\nvalue = [0, 5]'),\n",
              " Text(320.85, 108.72, 'X[0] <= 1.319\\nentropy = 0.918\\nsamples = 24\\nvalue = [16, 8]'),\n",
              " Text(317.3625, 99.26608695652173, 'entropy = 0.0\\nsamples = 8\\nvalue = [8, 0]'),\n",
              " Text(324.33750000000003, 99.26608695652173, 'X[0] <= 1.397\\nentropy = 1.0\\nsamples = 16\\nvalue = [8, 8]'),\n",
              " Text(320.85, 89.81217391304348, 'entropy = 0.0\\nsamples = 2\\nvalue = [0, 2]'),\n",
              " Text(327.82500000000005, 89.81217391304348, 'X[0] <= 1.579\\nentropy = 0.985\\nsamples = 14\\nvalue = [8, 6]'),\n",
              " Text(324.33750000000003, 80.35826086956521, 'X[0] <= 1.514\\nentropy = 0.985\\nsamples = 7\\nvalue = [3, 4]'),\n",
              " Text(320.85, 70.90434782608696, 'X[0] <= 1.449\\nentropy = 1.0\\nsamples = 6\\nvalue = [3, 3]'),\n",
              " Text(317.3625, 61.45043478260868, 'entropy = 1.0\\nsamples = 4\\nvalue = [2, 2]'),\n",
              " Text(324.33750000000003, 61.45043478260868, 'entropy = 1.0\\nsamples = 2\\nvalue = [1, 1]'),\n",
              " Text(327.82500000000005, 70.90434782608696, 'entropy = 0.0\\nsamples = 1\\nvalue = [0, 1]'),\n",
              " Text(331.3125, 80.35826086956521, 'entropy = 0.863\\nsamples = 7\\nvalue = [5, 2]')]"
            ]
          },
          "metadata": {
            "tags": []
          },
          "execution_count": 28
        },
        {
          "output_type": "display_data",
          "data": {
            "image/png": "[encoded data removed]",
            "text/plain": [
              "<Figure size 432x288 with 1 Axes>"
            ]
          },
          "metadata": {
            "tags": [],
            "needs_background": "light"
          }
        }
      ]
    },
    {
      "cell_type": "markdown",
      "metadata": {
        "id": "hnHNcguN0SU6"
      },
      "source": [
        "# **Exercise:7**"
      ]
    },
    {
      "cell_type": "markdown",
      "metadata": {
        "id": "vKqareY50YTv"
      },
      "source": [
        "Calculating with matrices using numpy : inv, pinv, matrix_rank, solve, lstsq, svd, transpose, eig, sort, linspace, meshgrid, mgrid, ogrid, concatenate, tile, squeeze, integrate"
      ]
    },
    {
      "cell_type": "code",
      "metadata": {
        "id": "NVna9Jem0TzX"
      },
      "source": [
        "import numpy as np"
      ],
      "execution_count": null,
      "outputs": []
    },
    {
      "cell_type": "markdown",
      "metadata": {
        "id": "3XrK5F930hOf"
      },
      "source": [
        "INV() and PINV()"
      ]
    },
    {
      "cell_type": "code",
      "metadata": {
        "colab": {
          "base_uri": "https://localhost:8080/"
        },
        "id": "PiTtKr320eDZ",
        "outputId": "40ec6aab-aa5f-4073-d06e-3622ff72dfec"
      },
      "source": [
        "from numpy import linalg\n",
        "matrix = np.array([\n",
        "                [10,20,30,40],\n",
        "                [34,54,36,90],\n",
        "                [48,83,94,23],\n",
        "                [23,45,36,89]\n",
        "])\n",
        "\n",
        "print(\"Inverse of matrix:\\n\")\n",
        "print(linalg.inv(matrix))\n",
        "print(\"\\n\\n\")\n",
        "print(\"Pseudo Inverse of matrix:\\n\")\n",
        "print(linalg.pinv(matrix))"
      ],
      "execution_count": null,
      "outputs": [
        {
          "output_type": "stream",
          "text": [
            "Inverse of matrix:\n",
            "\n",
            "[[ 1.33295973e-01  1.79088944e-01 -2.08950444e-02 -2.35609639e-01]\n",
            " [-1.65086863e-01 -1.08618205e-01  2.64190217e-02  1.77207589e-01]\n",
            " [ 7.29245056e-02  2.60187335e-03 -8.00576415e-05 -3.53854775e-02]\n",
            " [ 1.95260588e-02  7.58546153e-03 -7.92570651e-03 -3.16227684e-03]]\n",
            "\n",
            "\n",
            "\n",
            "Pseudo Inverse of matrix:\n",
            "\n",
            "[[ 1.33295973e-01  1.79088944e-01 -2.08950444e-02 -2.35609639e-01]\n",
            " [-1.65086863e-01 -1.08618205e-01  2.64190217e-02  1.77207589e-01]\n",
            " [ 7.29245056e-02  2.60187335e-03 -8.00576415e-05 -3.53854775e-02]\n",
            " [ 1.95260588e-02  7.58546153e-03 -7.92570651e-03 -3.16227684e-03]]\n"
          ],
          "name": "stdout"
        }
      ]
    },
    {
      "cell_type": "markdown",
      "metadata": {
        "id": "jgvDMdt60zfk"
      },
      "source": [
        "MATRIX_RANK()"
      ]
    },
    {
      "cell_type": "code",
      "metadata": {
        "colab": {
          "base_uri": "https://localhost:8080/"
        },
        "id": "balzILc50tH6",
        "outputId": "293de485-7844-4b4c-c635-6e9a5a1f57b0"
      },
      "source": [
        "matrix = np.eye(5)\n",
        "print(matrix)\n",
        "\n",
        "print(\"Rank of matrix: \",linalg.matrix_rank(matrix))"
      ],
      "execution_count": null,
      "outputs": [
        {
          "output_type": "stream",
          "text": [
            "[[1. 0. 0. 0. 0.]\n",
            " [0. 1. 0. 0. 0.]\n",
            " [0. 0. 1. 0. 0.]\n",
            " [0. 0. 0. 1. 0.]\n",
            " [0. 0. 0. 0. 1.]]\n",
            "Rank of matrix:  5\n"
          ],
          "name": "stdout"
        }
      ]
    },
    {
      "cell_type": "markdown",
      "metadata": {
        "id": "1u4socn-09hU"
      },
      "source": [
        "SOLVE()"
      ]
    },
    {
      "cell_type": "markdown",
      "metadata": {
        "id": "W0ZzKIxn1FW5"
      },
      "source": [
        "Solving Linear equations:\n",
        "\n",
        "4x-8y=2\n",
        "\n",
        "6x+5y=-1"
      ]
    },
    {
      "cell_type": "code",
      "metadata": {
        "colab": {
          "base_uri": "https://localhost:8080/"
        },
        "id": "02JT5yJA05vh",
        "outputId": "e5967d6f-4152-469e-ef6d-b436e8a839f2"
      },
      "source": [
        "coeff_matrix = np.array([\n",
        "                         [4, -8],\n",
        "                         [6, 5]\n",
        "])\n",
        "\n",
        "const_matrix = np.array([2, -1])\n",
        "\n",
        "solution = linalg.solve(coeff_matrix, const_matrix)\n",
        "\n",
        "print(solution)"
      ],
      "execution_count": null,
      "outputs": [
        {
          "output_type": "stream",
          "text": [
            "[ 0.02941176 -0.23529412]\n"
          ],
          "name": "stdout"
        }
      ]
    },
    {
      "cell_type": "markdown",
      "metadata": {
        "id": "7rxIJbpw1SEU"
      },
      "source": [
        "ISTSQ()"
      ]
    },
    {
      "cell_type": "code",
      "metadata": {
        "colab": {
          "base_uri": "https://localhost:8080/"
        },
        "id": "7arhcjRZ1Ns2",
        "outputId": "5bf7ba3e-7f57-461f-db9d-a92fd1c1bdeb"
      },
      "source": [
        "coeff_matrix = np.array([\n",
        "                         [5, -8],\n",
        "                         [4, 5]\n",
        "])\n",
        "\n",
        "const_matrix = np.array([1, -6])\n",
        "\n",
        "linalg.lstsq(coeff_matrix, const_matrix)"
      ],
      "execution_count": null,
      "outputs": [
        {
          "output_type": "stream",
          "text": [
            "/usr/local/lib/python3.7/dist-packages/ipykernel_launcher.py:8: FutureWarning: `rcond` parameter will change to the default of machine precision times ``max(M, N)`` where M and N are the input matrix dimensions.\n",
            "To use the future default and silence this warning we advise to pass `rcond=None`, to keep using the old, explicitly pass `rcond=-1`.\n",
            "  \n"
          ],
          "name": "stderr"
        },
        {
          "output_type": "execute_result",
          "data": {
            "text/plain": [
              "(array([-0.75438596, -0.59649123]),\n",
              " array([], dtype=float64),\n",
              " 2,\n",
              " array([9.81024968, 5.81024968]))"
            ]
          },
          "metadata": {
            "tags": []
          },
          "execution_count": 53
        }
      ]
    },
    {
      "cell_type": "code",
      "metadata": {
        "colab": {
          "base_uri": "https://localhost:8080/"
        },
        "id": "ISvne9Ra1eqy",
        "outputId": "eb29dfda-c7ac-46fc-b82b-67c33c652124"
      },
      "source": [
        "X = np.array([\n",
        "              [10,20,30,40],\n",
        "              [23,45,89,90],\n",
        "              [2,5,4,9],\n",
        "              [9,8,0,1]\n",
        "])\n",
        "\n",
        "u, s, v = linalg.svd(X)\n",
        "\n",
        "print(\"Matirx:\")\n",
        "print(X)\n",
        "print(\"\\n\")\n",
        "print(\"U:\")\n",
        "print(u)\n",
        "print(\"\\n\")\n",
        "print(\"Sigma:\")\n",
        "print(s)\n",
        "print(\"\\n\")\n",
        "print(\"V*\")\n",
        "print(v)\n",
        "\n",
        "print(\"\\nOriginal Matrix\")\n",
        "print((u@np.diag(s))@v)"
      ],
      "execution_count": null,
      "outputs": [
        {
          "output_type": "stream",
          "text": [
            "Matirx:\n",
            "[[10 20 30 40]\n",
            " [23 45 89 90]\n",
            " [ 2  5  4  9]\n",
            " [ 9  8  0  1]]\n",
            "\n",
            "\n",
            "U:\n",
            "[[-0.36980609  0.27872639 -0.75618115 -0.46232577]\n",
            " [-0.92569789 -0.15882766  0.32292537  0.11651779]\n",
            " [-0.07215797  0.17759612 -0.43664915  0.8789712 ]\n",
            " [-0.03346788  0.93034671  0.36502985 -0.00938707]]\n",
            "\n",
            "\n",
            "Sigma:\n",
            "[147.19709745  11.55464586   6.80590319   0.42935323]\n",
            "\n",
            "\n",
            "V*\n",
            "[[-0.17279308 -0.33751385 -0.63703652 -0.67112698]\n",
            " [ 0.68046572  0.58487621 -0.43822073 -0.05337436]\n",
            " [ 0.33462749  0.02130674  0.63302793 -0.69774358]\n",
            " [-0.62859638  0.7372586   0.03771874 -0.24473179]]\n",
            "\n",
            "Original Matrix\n",
            "[[ 1.00000000e+01  2.00000000e+01  3.00000000e+01  4.00000000e+01]\n",
            " [ 2.30000000e+01  4.50000000e+01  8.90000000e+01  9.00000000e+01]\n",
            " [ 2.00000000e+00  5.00000000e+00  4.00000000e+00  9.00000000e+00]\n",
            " [ 9.00000000e+00  8.00000000e+00 -2.14477821e-15  1.00000000e+00]]\n"
          ],
          "name": "stdout"
        }
      ]
    },
    {
      "cell_type": "markdown",
      "metadata": {
        "id": "bDkRmnev1sQK"
      },
      "source": [
        "TRANSPOSE()"
      ]
    },
    {
      "cell_type": "code",
      "metadata": {
        "colab": {
          "base_uri": "https://localhost:8080/"
        },
        "id": "W3qObYS71opg",
        "outputId": "9425d9ab-f567-4720-e967-23a5431017c7"
      },
      "source": [
        "matrix = np.random.randint(100,200,24).reshape(3,8)\n",
        "print(\"Matrix:\")\n",
        "print(matrix)\n",
        "print(\"\\n\\n\")\n",
        "print(\"Transpose of Matrix:\")\n",
        "print(matrix.transpose())"
      ],
      "execution_count": null,
      "outputs": [
        {
          "output_type": "stream",
          "text": [
            "Matrix:\n",
            "[[177 138 161 167 196 104 136 104]\n",
            " [162 151 135 140 124 181 137 131]\n",
            " [197 143 188 162 163 105 104 150]]\n",
            "\n",
            "\n",
            "\n",
            "Transpose of Matrix:\n",
            "[[177 162 197]\n",
            " [138 151 143]\n",
            " [161 135 188]\n",
            " [167 140 162]\n",
            " [196 124 163]\n",
            " [104 181 105]\n",
            " [136 137 104]\n",
            " [104 131 150]]\n"
          ],
          "name": "stdout"
        }
      ]
    },
    {
      "cell_type": "markdown",
      "metadata": {
        "id": "ViWiKvU916ZX"
      },
      "source": [
        "EIG()"
      ]
    },
    {
      "cell_type": "code",
      "metadata": {
        "colab": {
          "base_uri": "https://localhost:8080/"
        },
        "id": "yEFgAHhe10Gz",
        "outputId": "4992d14a-5dfe-471f-f44a-9aceb8f4224c"
      },
      "source": [
        "matrix = np.array([\n",
        "                   [23,0,0,0],\n",
        "                   [0,90,0,0],\n",
        "                   [0,0,87,0],\n",
        "                   [0,0,0,76]\n",
        "])\n",
        "\n",
        "print(\"Matrix: \")\n",
        "print(matrix)\n",
        "\n",
        "evl, evc = linalg.eig(matrix)\n",
        "\n",
        "print(\"\\nEigen values:\")\n",
        "print(evl)\n",
        "\n",
        "print(\"\\nEigen vectors:\")\n",
        "print(evc)"
      ],
      "execution_count": null,
      "outputs": [
        {
          "output_type": "stream",
          "text": [
            "Matrix: \n",
            "[[23  0  0  0]\n",
            " [ 0 90  0  0]\n",
            " [ 0  0 87  0]\n",
            " [ 0  0  0 76]]\n",
            "\n",
            "Eigen values:\n",
            "[23. 90. 87. 76.]\n",
            "\n",
            "Eigen vectors:\n",
            "[[1. 0. 0. 0.]\n",
            " [0. 1. 0. 0.]\n",
            " [0. 0. 1. 0.]\n",
            " [0. 0. 0. 1.]]\n"
          ],
          "name": "stdout"
        }
      ]
    },
    {
      "cell_type": "markdown",
      "metadata": {
        "id": "eEp5xEc12Hhr"
      },
      "source": [
        "SORT()"
      ]
    },
    {
      "cell_type": "code",
      "metadata": {
        "colab": {
          "base_uri": "https://localhost:8080/"
        },
        "id": "crxD12d92DLh",
        "outputId": "c01e18e5-403b-4239-dc9b-fc1d5d6a5687"
      },
      "source": [
        "matrix = np.random.randint(100,140,24).reshape(6,4)\n",
        "print(matrix)\n",
        "\n",
        "print(\"\\n\\nsorted:\")\n",
        "print(np.sort(matrix, axis=None))\n",
        "\n",
        "print(\"\\n\\nsorted row wise:\")\n",
        "print(np.sort(matrix, axis=0))\n",
        "\n",
        "print(\"\\n\\nsorted column wise:\")\n",
        "print(np.sort(matrix, axis=1))"
      ],
      "execution_count": null,
      "outputs": [
        {
          "output_type": "stream",
          "text": [
            "[[102 130 123 129]\n",
            " [138 124 106 113]\n",
            " [110 105 115 127]\n",
            " [124 116 124 139]\n",
            " [107 109 106 117]\n",
            " [106 124 135 101]]\n",
            "\n",
            "\n",
            "sorted:\n",
            "[101 102 105 106 106 106 107 109 110 113 115 116 117 123 124 124 124 124\n",
            " 127 129 130 135 138 139]\n",
            "\n",
            "\n",
            "sorted row wise:\n",
            "[[102 105 106 101]\n",
            " [106 109 106 113]\n",
            " [107 116 115 117]\n",
            " [110 124 123 127]\n",
            " [124 124 124 129]\n",
            " [138 130 135 139]]\n",
            "\n",
            "\n",
            "sorted column wise:\n",
            "[[102 123 129 130]\n",
            " [106 113 124 138]\n",
            " [105 110 115 127]\n",
            " [116 124 124 139]\n",
            " [106 107 109 117]\n",
            " [101 106 124 135]]\n"
          ],
          "name": "stdout"
        }
      ]
    },
    {
      "cell_type": "markdown",
      "metadata": {
        "id": "_d93KRxb2X2g"
      },
      "source": [
        "LINESPACE()"
      ]
    },
    {
      "cell_type": "code",
      "metadata": {
        "colab": {
          "base_uri": "https://localhost:8080/"
        },
        "id": "CxkFWLNz2SC0",
        "outputId": "3d228f83-2ae2-4b6d-df76-1c848c4089d4"
      },
      "source": [
        "a = np.linspace(0,100,num=10)\n",
        "print(a)"
      ],
      "execution_count": null,
      "outputs": [
        {
          "output_type": "stream",
          "text": [
            "[  0.          11.11111111  22.22222222  33.33333333  44.44444444\n",
            "  55.55555556  66.66666667  77.77777778  88.88888889 100.        ]\n"
          ],
          "name": "stdout"
        }
      ]
    },
    {
      "cell_type": "markdown",
      "metadata": {
        "id": "r7hVz5Hg22wZ"
      },
      "source": [
        "MESHGRID()"
      ]
    },
    {
      "cell_type": "code",
      "metadata": {
        "colab": {
          "base_uri": "https://localhost:8080/"
        },
        "id": "nbRjVVRF20dJ",
        "outputId": "50f430ad-4baa-4d69-ffa3-3acd61a45770"
      },
      "source": [
        "a = np.linspace(1, 5, 5)\n",
        "b = np.linspace(1,8,8)\n",
        "\n",
        "x,y = np.meshgrid(a,b)\n",
        "\n",
        "print(x)\n",
        "print(y)"
      ],
      "execution_count": null,
      "outputs": [
        {
          "output_type": "stream",
          "text": [
            "[[1. 2. 3. 4. 5.]\n",
            " [1. 2. 3. 4. 5.]\n",
            " [1. 2. 3. 4. 5.]\n",
            " [1. 2. 3. 4. 5.]\n",
            " [1. 2. 3. 4. 5.]\n",
            " [1. 2. 3. 4. 5.]\n",
            " [1. 2. 3. 4. 5.]\n",
            " [1. 2. 3. 4. 5.]]\n",
            "[[1. 1. 1. 1. 1.]\n",
            " [2. 2. 2. 2. 2.]\n",
            " [3. 3. 3. 3. 3.]\n",
            " [4. 4. 4. 4. 4.]\n",
            " [5. 5. 5. 5. 5.]\n",
            " [6. 6. 6. 6. 6.]\n",
            " [7. 7. 7. 7. 7.]\n",
            " [8. 8. 8. 8. 8.]]\n"
          ],
          "name": "stdout"
        }
      ]
    },
    {
      "cell_type": "markdown",
      "metadata": {
        "id": "oGDbh6GJ3BWG"
      },
      "source": [
        "MGRID()"
      ]
    },
    {
      "cell_type": "code",
      "metadata": {
        "colab": {
          "base_uri": "https://localhost:8080/"
        },
        "id": "fOk8W7Ye2-Rz",
        "outputId": "2a9d4627-3c21-4182-f22e-8bff0c7849e8"
      },
      "source": [
        "a = np.mgrid[1:10,5:20]\n",
        "print(a)"
      ],
      "execution_count": null,
      "outputs": [
        {
          "output_type": "stream",
          "text": [
            "[[[ 1  1  1  1  1  1  1  1  1  1  1  1  1  1  1]\n",
            "  [ 2  2  2  2  2  2  2  2  2  2  2  2  2  2  2]\n",
            "  [ 3  3  3  3  3  3  3  3  3  3  3  3  3  3  3]\n",
            "  [ 4  4  4  4  4  4  4  4  4  4  4  4  4  4  4]\n",
            "  [ 5  5  5  5  5  5  5  5  5  5  5  5  5  5  5]\n",
            "  [ 6  6  6  6  6  6  6  6  6  6  6  6  6  6  6]\n",
            "  [ 7  7  7  7  7  7  7  7  7  7  7  7  7  7  7]\n",
            "  [ 8  8  8  8  8  8  8  8  8  8  8  8  8  8  8]\n",
            "  [ 9  9  9  9  9  9  9  9  9  9  9  9  9  9  9]]\n",
            "\n",
            " [[ 5  6  7  8  9 10 11 12 13 14 15 16 17 18 19]\n",
            "  [ 5  6  7  8  9 10 11 12 13 14 15 16 17 18 19]\n",
            "  [ 5  6  7  8  9 10 11 12 13 14 15 16 17 18 19]\n",
            "  [ 5  6  7  8  9 10 11 12 13 14 15 16 17 18 19]\n",
            "  [ 5  6  7  8  9 10 11 12 13 14 15 16 17 18 19]\n",
            "  [ 5  6  7  8  9 10 11 12 13 14 15 16 17 18 19]\n",
            "  [ 5  6  7  8  9 10 11 12 13 14 15 16 17 18 19]\n",
            "  [ 5  6  7  8  9 10 11 12 13 14 15 16 17 18 19]\n",
            "  [ 5  6  7  8  9 10 11 12 13 14 15 16 17 18 19]]]\n"
          ],
          "name": "stdout"
        }
      ]
    },
    {
      "cell_type": "markdown",
      "metadata": {
        "id": "q1i7utfF3U1k"
      },
      "source": [
        "OGRID()"
      ]
    },
    {
      "cell_type": "code",
      "metadata": {
        "colab": {
          "base_uri": "https://localhost:8080/"
        },
        "id": "qNuF7dJu3MeU",
        "outputId": "d5483f9d-1e09-44e9-e6aa-ec926fa0f7ab"
      },
      "source": [
        "a = np.ogrid[1:10,5:20]\n",
        "print(a)"
      ],
      "execution_count": null,
      "outputs": [
        {
          "output_type": "stream",
          "text": [
            "[array([[1],\n",
            "       [2],\n",
            "       [3],\n",
            "       [4],\n",
            "       [5],\n",
            "       [6],\n",
            "       [7],\n",
            "       [8],\n",
            "       [9]]), array([[ 5,  6,  7,  8,  9, 10, 11, 12, 13, 14, 15, 16, 17, 18, 19]])]\n"
          ],
          "name": "stdout"
        }
      ]
    },
    {
      "cell_type": "markdown",
      "metadata": {
        "id": "vhPkOQ1m3dQM"
      },
      "source": [
        "CONCATENATE()"
      ]
    },
    {
      "cell_type": "code",
      "metadata": {
        "colab": {
          "base_uri": "https://localhost:8080/"
        },
        "id": "MJNJEyVs3aaw",
        "outputId": "233766e8-282a-4a40-e32b-e1c4163d2b2c"
      },
      "source": [
        "a = np.array([\n",
        "              [10,20,30],\n",
        "              [40,50,60],\n",
        "              [70,80,90]\n",
        "])\n",
        "\n",
        "b = np.array([\n",
        "              [2,3,4],\n",
        "              [500,69,94],\n",
        "              [45,25,65]\n",
        "])\n",
        "x = np.concatenate((a,b), axis=0)\n",
        "print(x)\n",
        "\n",
        "print(\"\\n\\n\")\n",
        "x = np.concatenate((a,b), axis=1)\n",
        "print(x)"
      ],
      "execution_count": null,
      "outputs": [
        {
          "output_type": "stream",
          "text": [
            "[[ 10  20  30]\n",
            " [ 40  50  60]\n",
            " [ 70  80  90]\n",
            " [  2   3   4]\n",
            " [500  69  94]\n",
            " [ 45  25  65]]\n",
            "\n",
            "\n",
            "\n",
            "[[ 10  20  30   2   3   4]\n",
            " [ 40  50  60 500  69  94]\n",
            " [ 70  80  90  45  25  65]]\n"
          ],
          "name": "stdout"
        }
      ]
    },
    {
      "cell_type": "markdown",
      "metadata": {
        "id": "uWe877lq3qj3"
      },
      "source": [
        "TILE()"
      ]
    },
    {
      "cell_type": "code",
      "metadata": {
        "colab": {
          "base_uri": "https://localhost:8080/"
        },
        "id": "-pWfrx5P3mHf",
        "outputId": "fd78151a-3459-4593-a0f8-bad2d7113c0d"
      },
      "source": [
        "a = np.array([\n",
        "              [10,20],\n",
        "              [30,40]\n",
        "])\n",
        "\n",
        "print(np.tile(a,3))\n",
        "print(\"\\n\\n\")\n",
        "print(np.tile(a,(3,3)))"
      ],
      "execution_count": null,
      "outputs": [
        {
          "output_type": "stream",
          "text": [
            "[[10 20 10 20 10 20]\n",
            " [30 40 30 40 30 40]]\n",
            "\n",
            "\n",
            "\n",
            "[[10 20 10 20 10 20]\n",
            " [30 40 30 40 30 40]\n",
            " [10 20 10 20 10 20]\n",
            " [30 40 30 40 30 40]\n",
            " [10 20 10 20 10 20]\n",
            " [30 40 30 40 30 40]]\n"
          ],
          "name": "stdout"
        }
      ]
    },
    {
      "cell_type": "markdown",
      "metadata": {
        "id": "3W0QwiAF4F-5"
      },
      "source": [
        "SQUEEZE()"
      ]
    },
    {
      "cell_type": "code",
      "metadata": {
        "colab": {
          "base_uri": "https://localhost:8080/"
        },
        "id": "fpnfriiQ4Has",
        "outputId": "310d316e-e9ed-4a14-823b-2a936d75c87d"
      },
      "source": [
        "a = np.array([\n",
        "              [4],\n",
        "              [5],\n",
        "              [6]\n",
        "])\n",
        "\n",
        "print(np.squeeze(a))"
      ],
      "execution_count": null,
      "outputs": [
        {
          "output_type": "stream",
          "text": [
            "[4 5 6]\n"
          ],
          "name": "stdout"
        }
      ]
    },
    {
      "cell_type": "markdown",
      "metadata": {
        "id": "xNEAjMmz4ayn"
      },
      "source": [
        "INTEGRATE()"
      ]
    },
    {
      "cell_type": "code",
      "metadata": {
        "colab": {
          "base_uri": "https://localhost:8080/"
        },
        "id": "fJ3M5OFl4Xtc",
        "outputId": "7f6ab051-0c05-4678-d581-b30ea67e378e"
      },
      "source": [
        "from scipy import integrate\n",
        "def integrand(x, a, b):\n",
        "  return a*x**3 + b*x**2\n",
        "\n",
        "result = integrate.quad(integrand, 0, 2, args=(3,9))\n",
        "\n",
        "print(result)"
      ],
      "execution_count": null,
      "outputs": [
        {
          "output_type": "stream",
          "text": [
            "(36.0, 3.9968028886505635e-13)\n"
          ],
          "name": "stdout"
        }
      ]
    },
    {
      "cell_type": "markdown",
      "metadata": {
        "id": "dY952HkC4lmD"
      },
      "source": [
        "# **Exercise:8**"
      ]
    },
    {
      "cell_type": "markdown",
      "metadata": {
        "id": "r7kpFZvE4p9t"
      },
      "source": [
        "a)Program using pandas"
      ]
    },
    {
      "cell_type": "code",
      "metadata": {
        "colab": {
          "base_uri": "https://localhost:8080/"
        },
        "id": "LIZ-NkSU4iE7",
        "outputId": "0b077118-ccd9-4d78-ea44-eb631eb3e49f"
      },
      "source": [
        "#Series\n",
        "print(\"CREATING SERIES\")\n",
        "import pandas as pd\n",
        "import numpy as np\n",
        "t=pd.Series([1,3,5,6,8])\n",
        "s=pd.Series([1,3,5,6,8],index=(10,11,12,13,14))\n",
        "print(t)\n",
        "print(s)\n",
        "print(s[:3])\n",
        "print(s[:-3])\n",
        "print(s[-3:])\n",
        "print(\".............\")\n",
        "\n",
        "data=np.array(['a','b','c','d'])\n",
        "s=pd.Series(data)\n",
        "t=pd.Series(data,index=[100,101,102,103])\n",
        "print(s)\n",
        "print(t)\n",
        "print(\".............\")\n",
        "\n",
        "data={'a':0.,'b':1.,'c':2.}\n",
        "s=pd.Series(data,dtype=int)\n",
        "t=pd.Series(data,index=[100,101,102,103])\n",
        "print(s)\n",
        "print(t)\n",
        "print(\"__________\")\n",
        "\n",
        "print(\"CREATING DATAFRAME\")\n",
        "data=[['divya',18],['tinku',16],['shrav',17]]\n",
        "print(data)\n",
        "print('......')\n",
        "x=pd.DataFrame(data)\n",
        "print(x)\n",
        "print('.......')\n",
        "x=pd.DataFrame(data,index=['row1','row2','row3'])\n",
        "print(x)\n",
        "print('......')\n",
        "x=pd.DataFrame(data,columns=['Name','Age'])#dataframe with col names changed\n",
        "print(x)\n",
        "print('......')\n",
        "x=pd.DataFrame(data,index=['row1','row2','row3'],columns=['Name','Age'])#dataframe with both index and col changes\n",
        "print(x)\n",
        "print('......')\n",
        "print(x.shape)#shape\n",
        "print('.......')\n",
        "print(x.T)#transpose of matrix\n",
        "print('.......')\n",
        "print(x.dtypes)\n",
        "print(\"__________\")\n",
        "#Adding a new column using pandas\n",
        "d = {'one' : pd.Series([1, 2, 3], index=['a', 'b', 'c']),\n",
        "   'two' : pd.Series([1, 2, 3, 4], index=['a', 'b', 'c', 'd'])}\n",
        "df = pd.DataFrame(d)\n",
        "print(df)\n",
        "print('...........')\n",
        "print (\"Adding a new column by passing as Series:\")\n",
        "df['three']=pd.Series([10,20,30],index=['a','b','c'])\n",
        "df['four'] = pd.Series([100, 200, 300])\n",
        "print(df)\n",
        "print('.....')\n",
        "print (\"Adding a new column using the existing columns in DataFrame:\")\n",
        "df['five']=df['one']*df['three']\n",
        "print(df)"
      ],
      "execution_count": null,
      "outputs": [
        {
          "output_type": "stream",
          "text": [
            "CREATING SERIES\n",
            "0    1\n",
            "1    3\n",
            "2    5\n",
            "3    6\n",
            "4    8\n",
            "dtype: int64\n",
            "10    1\n",
            "11    3\n",
            "12    5\n",
            "13    6\n",
            "14    8\n",
            "dtype: int64\n",
            "10    1\n",
            "11    3\n",
            "12    5\n",
            "dtype: int64\n",
            "10    1\n",
            "11    3\n",
            "dtype: int64\n",
            "12    5\n",
            "13    6\n",
            "14    8\n",
            "dtype: int64\n",
            ".............\n",
            "0    a\n",
            "1    b\n",
            "2    c\n",
            "3    d\n",
            "dtype: object\n",
            "100    a\n",
            "101    b\n",
            "102    c\n",
            "103    d\n",
            "dtype: object\n",
            ".............\n",
            "a    0\n",
            "b    1\n",
            "c    2\n",
            "dtype: int64\n",
            "100   NaN\n",
            "101   NaN\n",
            "102   NaN\n",
            "103   NaN\n",
            "dtype: float64\n",
            "__________\n",
            "CREATING DATAFRAME\n",
            "[['divya', 18], ['tinku', 16], ['shrav', 17]]\n",
            "......\n",
            "       0   1\n",
            "0  divya  18\n",
            "1  tinku  16\n",
            "2  shrav  17\n",
            ".......\n",
            "          0   1\n",
            "row1  divya  18\n",
            "row2  tinku  16\n",
            "row3  shrav  17\n",
            "......\n",
            "    Name  Age\n",
            "0  divya   18\n",
            "1  tinku   16\n",
            "2  shrav   17\n",
            "......\n",
            "       Name  Age\n",
            "row1  divya   18\n",
            "row2  tinku   16\n",
            "row3  shrav   17\n",
            "......\n",
            "(3, 2)\n",
            ".......\n",
            "       row1   row2   row3\n",
            "Name  divya  tinku  shrav\n",
            "Age      18     16     17\n",
            ".......\n",
            "Name    object\n",
            "Age      int64\n",
            "dtype: object\n",
            "__________\n",
            "   one  two\n",
            "a  1.0    1\n",
            "b  2.0    2\n",
            "c  3.0    3\n",
            "d  NaN    4\n",
            "...........\n",
            "Adding a new column by passing as Series:\n",
            "   one  two  three  four\n",
            "a  1.0    1   10.0   NaN\n",
            "b  2.0    2   20.0   NaN\n",
            "c  3.0    3   30.0   NaN\n",
            "d  NaN    4    NaN   NaN\n",
            ".....\n",
            "Adding a new column using the existing columns in DataFrame:\n",
            "   one  two  three  four  five\n",
            "a  1.0    1   10.0   NaN  10.0\n",
            "b  2.0    2   20.0   NaN  40.0\n",
            "c  3.0    3   30.0   NaN  90.0\n",
            "d  NaN    4    NaN   NaN   NaN\n"
          ],
          "name": "stdout"
        }
      ]
    },
    {
      "cell_type": "markdown",
      "metadata": {
        "id": "7XLJ4NLw5Wnd"
      },
      "source": [
        "b)Program using matplotlib-use minimum 5 techniques"
      ]
    },
    {
      "cell_type": "markdown",
      "metadata": {
        "id": "QnthObbD5a8J"
      },
      "source": [
        "1.LINE PLOT"
      ]
    },
    {
      "cell_type": "code",
      "metadata": {
        "colab": {
          "base_uri": "https://localhost:8080/",
          "height": 265
        },
        "id": "mEnqOArf5Q60",
        "outputId": "b1d26a37-3869-46fb-d4bd-96a5939de2ea"
      },
      "source": [
        "import matplotlib.pyplot as plt\n",
        "\n",
        "x= [4,5,6,7]\n",
        "plt.plot(x)\n",
        "\n",
        "plt.ylabel('some numbers')\n",
        "plt.show()"
      ],
      "execution_count": null,
      "outputs": [
        {
          "output_type": "display_data",
          "data": {
            "image/png": "[encoded data removed]",
            "text/plain": [
              "<Figure size 432x288 with 1 Axes>"
            ]
          },
          "metadata": {
            "tags": [],
            "needs_background": "light"
          }
        }
      ]
    },
    {
      "cell_type": "markdown",
      "metadata": {
        "id": "o4fzS5YW5wGY"
      },
      "source": [
        "\n",
        "2.SCATTER PLOT"
      ]
    },
    {
      "cell_type": "code",
      "metadata": {
        "colab": {
          "base_uri": "https://localhost:8080/",
          "height": 295
        },
        "id": "_QIfFU-55s6V",
        "outputId": "9a1f5d4e-b02a-4064-b643-17f73c4a3b8f"
      },
      "source": [
        "x = [1,1.5,2,2.6,3,3.7,3.8]\n",
        "y = [7.2,8,8.6,9,9.2,10,10.4]\n",
        "plt.scatter(x,y, label='high income low saving',color='r')\n",
        "\n",
        "plt.xlabel('saving*100')\n",
        "plt.ylabel('income*1000')\n",
        "\n",
        "plt.title('Scatter Plot')\n",
        "\n",
        "plt.legend()\n",
        "plt.grid(False)\n",
        "plt.show()"
      ],
      "execution_count": null,
      "outputs": [
        {
          "output_type": "display_data",
          "data": {
            "image/png": "[encoded data removed]",
            "text/plain": [
              "<Figure size 432x288 with 1 Axes>"
            ]
          },
          "metadata": {
            "tags": [],
            "needs_background": "light"
          }
        }
      ]
    },
    {
      "cell_type": "markdown",
      "metadata": {
        "id": "yLq2xR0s6alE"
      },
      "source": [
        "3.BARGRAPH"
      ]
    },
    {
      "cell_type": "code",
      "metadata": {
        "colab": {
          "base_uri": "https://localhost:8080/",
          "height": 295
        },
        "id": "iprq2FUG6WIN",
        "outputId": "90cd2ca4-7cee-4420-c42d-a8e3fac93cc4"
      },
      "source": [
        "x1 = [1,3,5,7,9]\n",
        "y1 = [5,2,7,8,2]\n",
        "x2 = [2,4,6,8,10]\n",
        "y2 = [8,6,2,5,6]\n",
        "plt.bar(x1, y1, label=\"Example 1\",color='r')\n",
        "plt.bar(x2, y2, label=\"Example 2\", color=\"g\")\n",
        "plt.legend()\n",
        "plt.xlabel(\"X axis\")\n",
        "plt.ylabel(\"Y axis\")\n",
        "plt.title(\"Bar graph\")\n",
        "plt.show()"
      ],
      "execution_count": null,
      "outputs": [
        {
          "output_type": "display_data",
          "data": {
            "image/png": "[encoded data removed]",
            "text/plain": [
              "<Figure size 432x288 with 1 Axes>"
            ]
          },
          "metadata": {
            "tags": [],
            "needs_background": "light"
          }
        }
      ]
    },
    {
      "cell_type": "markdown",
      "metadata": {
        "id": "-A4pRLwf6-j-"
      },
      "source": [
        "4.PIECHART"
      ]
    },
    {
      "cell_type": "code",
      "metadata": {
        "colab": {
          "base_uri": "https://localhost:8080/",
          "height": 266
        },
        "id": "-xVdFvfs66ej",
        "outputId": "7c3cb740-269c-408d-bf1f-b032156959c0"
      },
      "source": [
        "slices = [31,2,12,13]\n",
        "activities = ['python','datascience','c++','machinelearning']\n",
        "cols = ['c','m','r','b']\n",
        "\n",
        "plt.pie(\n",
        "    slices,\n",
        "    labels=activities,\n",
        "    colors=cols,\n",
        "    startangle=180,\n",
        "    shadow=True,\n",
        "    explode=(0.3, 0.1, 0, 0),\n",
        "    autopct=\"%2.1f%%\"\n",
        ")\n",
        "plt.show()"
      ],
      "execution_count": null,
      "outputs": [
        {
          "output_type": "display_data",
          "data": {
            "image/png": "[encoded data removed]",
            "text/plain": [
              "<Figure size 432x288 with 1 Axes>"
            ]
          },
          "metadata": {
            "tags": []
          }
        }
      ]
    },
    {
      "cell_type": "markdown",
      "metadata": {
        "id": "L9mL5DTu7IEw"
      },
      "source": [
        "5.STACK PLOT"
      ]
    },
    {
      "cell_type": "code",
      "metadata": {
        "colab": {
          "base_uri": "https://localhost:8080/",
          "height": 295
        },
        "id": "Iq4z72xw7LwT",
        "outputId": "02f0d17b-c59c-453c-88a8-776097382e14"
      },
      "source": [
        "days = [1,2,3,4,5]\n",
        "  \n",
        "sleeping =[7,8,6,11,7]\n",
        "eating = [2,3,4,3,2]\n",
        "working =[7,8,7,2,2]\n",
        "playing = [8,5,7,8,13]\n",
        "\n",
        "plt.plot([],[],color='b', label='Sleeping', linewidth=5)\n",
        "plt.plot([],[],color='c', label='Eating', linewidth=5)\n",
        "plt.plot([],[],color='r', label='Working', linewidth=5)\n",
        "plt.plot([],[],color='g', label='Playing', linewidth=5)\n",
        "\n",
        "plt.stackplot(days, sleeping,eating,working,playing, colors=['b','c','r','g'])\n",
        "\n",
        "plt.xlabel('Day')\n",
        "plt.ylabel('Number of hours spent')\n",
        "plt.title('Stack Plot')\n",
        "plt.legend()\n",
        "plt.show()"
      ],
      "execution_count": null,
      "outputs": [
        {
          "output_type": "display_data",
          "data": {
            "image/png": "[encoded data removed]",
            "text/plain": [
              "<Figure size 432x288 with 1 Axes>"
            ]
          },
          "metadata": {
            "tags": [],
            "needs_background": "light"
          }
        }
      ]
    },
    {
      "cell_type": "markdown",
      "metadata": {
        "id": "-41lhTnB7Ubu"
      },
      "source": [
        "# **Exercise:9**"
      ]
    },
    {
      "cell_type": "markdown",
      "metadata": {
        "id": "paGD2XC97Q0t"
      },
      "source": [
        "a)Graph using matplotlib"
      ]
    },
    {
      "cell_type": "code",
      "metadata": {
        "colab": {
          "base_uri": "https://localhost:8080/",
          "height": 265
        },
        "id": "lCcRzcnV7Y_E",
        "outputId": "b0a06068-8f0b-46a9-a593-e58c8a9f7830"
      },
      "source": [
        "import numpy as np\n",
        "t = np.arange(0., 5., 0.2)\n",
        "\n",
        "#Two or more lines\n",
        "plt.plot(t, t, 'r--', t, t**2, 'bs', t, t**3, 'g^')\n",
        "plt.show()"
      ],
      "execution_count": null,
      "outputs": [
        {
          "output_type": "display_data",
          "data": {
            "image/png": "[encoded data removed]",
            "text/plain": [
              "<Figure size 432x288 with 1 Axes>"
            ]
          },
          "metadata": {
            "tags": [],
            "needs_background": "light"
          }
        }
      ]
    },
    {
      "cell_type": "code",
      "metadata": {
        "colab": {
          "base_uri": "https://localhost:8080/",
          "height": 300
        },
        "id": "UjWPU2Pe72Zo",
        "outputId": "3031a1ae-f6fe-41ed-97f4-58ad9ac9befe"
      },
      "source": [
        "#With legend \n",
        "plt.plot([1, 2, 3, 4], [1, 4, 9, 16], 'r^', label=\" Sample Graph\")\n",
        "plt.legend(loc=\"upper left\")\n",
        "plt.xlabel(' Height')\n",
        "plt.ylabel('Weight')\n",
        "plt.axis([0, 5, 0, 20])"
      ],
      "execution_count": null,
      "outputs": [
        {
          "output_type": "execute_result",
          "data": {
            "text/plain": [
              "(0.0, 5.0, 0.0, 20.0)"
            ]
          },
          "metadata": {
            "tags": []
          },
          "execution_count": 32
        },
        {
          "output_type": "display_data",
          "data": {
            "image/png": "[encoded data removed]",
            "text/plain": [
              "<Figure size 432x288 with 1 Axes>"
            ]
          },
          "metadata": {
            "tags": [],
            "needs_background": "light"
          }
        }
      ]
    },
    {
      "cell_type": "code",
      "metadata": {
        "colab": {
          "base_uri": "https://localhost:8080/",
          "height": 299
        },
        "id": "g2kA0Xu075Mc",
        "outputId": "4776558f-fa94-47b1-f325-b3c763d22f4d"
      },
      "source": [
        "#Adding style to graph\n",
        "from matplotlib import style\n",
        "style.use(\"ggplot\")#this is used for grid look\n",
        "x = [5, 8, 10]\n",
        "y = [12, 16, 6]\n",
        "x2 = [6, 9, 11]\n",
        "y2 = [6, 15, 7]\n",
        "plt.plot(x, y, 'g', label=\"line one\", linewidth=5)\n",
        "plt.plot(x2, y2, 'c', label=\"line two\", linewidth=5)\n",
        "plt.xlabel(\"X axis\")\n",
        "plt.ylabel(\"Y axis\")\n",
        "plt.title(\"Sample graph\")\n",
        "plt.legend() # Bydeafult upper right\n",
        "#plt.grid(True, color=\"b\")#this is used for color of lines in grid\n",
        "plt.grid(True)\n",
        "plt.show()"
      ],
      "execution_count": null,
      "outputs": [
        {
          "output_type": "display_data",
          "data": {
            "image/png": "[encoded data removed]",
            "text/plain": [
              "<Figure size 432x288 with 1 Axes>"
            ]
          },
          "metadata": {
            "tags": []
          }
        }
      ]
    },
    {
      "cell_type": "code",
      "metadata": {
        "colab": {
          "base_uri": "https://localhost:8080/",
          "height": 299
        },
        "id": "FbZKsa6q8JBc",
        "outputId": "96f49d27-ffdf-4548-a1b3-1b8f201fe552"
      },
      "source": [
        "# bar graph for categorical values\n",
        "x1 = [1,3,5,7,9]\n",
        "y1 = [5,2,7,8,2]\n",
        "x2 = [2,4,6,8,10]\n",
        "y2 = [8,6,2,5,6]\n",
        "plt.bar(x1, y1, label=\"Example 1\",color='r')\n",
        "plt.bar(x2, y2, label=\"Example 2\", color=\"g\")\n",
        "plt.legend()\n",
        "plt.xlabel(\"X axis\")\n",
        "plt.ylabel(\"Y axis\")\n",
        "plt.title(\"Bar graph\")\n",
        "plt.show()"
      ],
      "execution_count": null,
      "outputs": [
        {
          "output_type": "display_data",
          "data": {
            "image/png": "[encoded data removed]",
            "text/plain": [
              "<Figure size 432x288 with 1 Axes>"
            ]
          },
          "metadata": {
            "tags": []
          }
        }
      ]
    },
    {
      "cell_type": "code",
      "metadata": {
        "colab": {
          "base_uri": "https://localhost:8080/",
          "height": 299
        },
        "id": "rfgV9jcz8UA2",
        "outputId": "487dc06d-f8ae-45d3-b099-f4a88bb9402f"
      },
      "source": [
        "# histogram for numeric values\n",
        "population_age = [20,20,20,30,30,30,40,40,40,50,50,50,60,60,60]\n",
        "bins = [0,10,20,30,40,50,60,70,80,90,100]\n",
        "plt.hist(population_age, bins, color=\"r\", rwidth=0.1) # histogram is representing frequnecy of each value\n",
        "plt.xlabel('age groups')\n",
        "plt.ylabel('Number of people')\n",
        "plt.title('Histogram')\n",
        "plt.show()"
      ],
      "execution_count": null,
      "outputs": [
        {
          "output_type": "display_data",
          "data": {
            "image/png": "[encoded data removed]",
            "text/plain": [
              "<Figure size 432x288 with 1 Axes>"
            ]
          },
          "metadata": {
            "tags": []
          }
        }
      ]
    },
    {
      "cell_type": "code",
      "metadata": {
        "colab": {
          "base_uri": "https://localhost:8080/",
          "height": 299
        },
        "id": "7__MZAxZ8b72",
        "outputId": "f08fc715-0905-41d2-a4b0-e49074713bf5"
      },
      "source": [
        "#scatter plot\n",
        "x = [1,1.5,2,2.5,3,3.5,3.6]\n",
        "y = [7.5,8,8.5,9,9.5,10,10.5]\n",
        "plt.scatter(x,y, label='high income low saving',color='r')\n",
        "\n",
        "plt.xlabel('saving*100')\n",
        "plt.ylabel('income*1000')\n",
        "\n",
        "plt.title('Scatter Plot')\n",
        "\n",
        "plt.legend()\n",
        "plt.grid(False)\n",
        "plt.show()"
      ],
      "execution_count": null,
      "outputs": [
        {
          "output_type": "display_data",
          "data": {
            "image/png": "[encoded data removed]",
            "text/plain": [
              "<Figure size 432x288 with 1 Axes>"
            ]
          },
          "metadata": {
            "tags": []
          }
        }
      ]
    },
    {
      "cell_type": "code",
      "metadata": {
        "colab": {
          "base_uri": "https://localhost:8080/",
          "height": 403
        },
        "id": "1iQ88n_68icj",
        "outputId": "f7188bfe-0cda-468f-c91a-73e90b3d2b36"
      },
      "source": [
        "#sine ans cosine graphs\n",
        "x = np.arange(0, 3 * np.pi, 0.1)\n",
        "print(x)\n",
        "y_sin = np.sin(x)\n",
        "y_cos = np.cos(x)\n",
        "# Plot the points using matplotlib\n",
        "plt.plot(x, y_sin)\n",
        "plt.plot(x, y_cos)\n",
        "plt.xlabel('x axis label')\n",
        "plt.ylabel('y axis label')\n",
        "plt.title('Sine and Cosine')\n",
        "plt.legend(['Sine', 'Cosine'])\n",
        "plt.show()"
      ],
      "execution_count": null,
      "outputs": [
        {
          "output_type": "stream",
          "text": [
            "[0.  0.1 0.2 0.3 0.4 0.5 0.6 0.7 0.8 0.9 1.  1.1 1.2 1.3 1.4 1.5 1.6 1.7\n",
            " 1.8 1.9 2.  2.1 2.2 2.3 2.4 2.5 2.6 2.7 2.8 2.9 3.  3.1 3.2 3.3 3.4 3.5\n",
            " 3.6 3.7 3.8 3.9 4.  4.1 4.2 4.3 4.4 4.5 4.6 4.7 4.8 4.9 5.  5.1 5.2 5.3\n",
            " 5.4 5.5 5.6 5.7 5.8 5.9 6.  6.1 6.2 6.3 6.4 6.5 6.6 6.7 6.8 6.9 7.  7.1\n",
            " 7.2 7.3 7.4 7.5 7.6 7.7 7.8 7.9 8.  8.1 8.2 8.3 8.4 8.5 8.6 8.7 8.8 8.9\n",
            " 9.  9.1 9.2 9.3 9.4]\n"
          ],
          "name": "stdout"
        },
        {
          "output_type": "display_data",
          "data": {
            "image/png": "[encoded data removed]",
            "text/plain": [
              "<Figure size 432x288 with 1 Axes>"
            ]
          },
          "metadata": {
            "tags": []
          }
        }
      ]
    },
    {
      "cell_type": "markdown",
      "metadata": {
        "id": "PqjmjmA287UP"
      },
      "source": [
        "# **Exercise:10**"
      ]
    },
    {
      "cell_type": "markdown",
      "metadata": {
        "id": "FAJepYwD9N7f"
      },
      "source": [
        "Vector using matplotlib"
      ]
    },
    {
      "cell_type": "code",
      "metadata": {
        "colab": {
          "base_uri": "https://localhost:8080/",
          "height": 279
        },
        "id": "OUvv0p-W809q",
        "outputId": "e03b8bb7-fa75-4c82-a934-6a513bb35ab1"
      },
      "source": [
        "#Plotting Of Vector In 2D\n",
        "import matplotlib.pyplot as plt\n",
        "ax = plt.axes()\n",
        "#(x,y,dx,dy):the starting point of vectors is (x,y) and the end point of vector is(x+dy,x+dx) where dx,dy are length of the arrow along x and y direction\n",
        "#fc=face color,ec=edge color\n",
        "ax.arrow(2.0, 4.0, 6.0, 4.0, head_width=0.5, head_length=0.7, fc='yellow', ec='red')\n",
        "plt.grid()\n",
        "plt.xlim(0,10)\n",
        "plt.ylim(0,10)\n",
        "plt.title('Vector Using Matplotlib',fontsize=10)\n",
        "plt.show()"
      ],
      "execution_count": null,
      "outputs": [
        {
          "output_type": "display_data",
          "data": {
            "image/png": "[encoded data removed]",
            "text/plain": [
              "<Figure size 432x288 with 1 Axes>"
            ]
          },
          "metadata": {
            "tags": []
          }
        }
      ]
    },
    {
      "cell_type": "code",
      "metadata": {
        "colab": {
          "base_uri": "https://localhost:8080/",
          "height": 279
        },
        "id": "LVToZbm49WSE",
        "outputId": "1065d6a7-ee81-429f-c6ec-4531f95747fa"
      },
      "source": [
        "#Plotting Of 2 Vectors In 2D\n",
        "ax = plt.axes()\n",
        "ax.arrow(2.0, 4.0, 6.0, 4.0, head_width=0.5, head_length=0.7, fc='yellow', ec='red')\n",
        "ax.arrow(2.0, 4.0, 4.0, 0.0, head_width=0.5, head_length=0.7, fc='green', ec='blue')\n",
        "plt.grid()\n",
        "plt.xlim(0,10)\n",
        "plt.ylim(0,10)\n",
        "plt.title('Vector Using Matplotlib',fontsize=10)\n",
        "plt.show()"
      ],
      "execution_count": null,
      "outputs": [
        {
          "output_type": "display_data",
          "data": {
            "image/png": "[encoded data removed]",
            "text/plain": [
              "<Figure size 432x288 with 1 Axes>"
            ]
          },
          "metadata": {
            "tags": []
          }
        }
      ]
    },
    {
      "cell_type": "code",
      "metadata": {
        "colab": {
          "base_uri": "https://localhost:8080/",
          "height": 279
        },
        "id": "5kAKYUeg9bNu",
        "outputId": "5565db70-aa3d-4510-e687-5b26367d388a"
      },
      "source": [
        "#Plotting Of 3 Vectors In 2D\n",
        "ax = plt.axes()\n",
        "ax.arrow(2.0, 4.0, 6.0, 4.0, head_width=0.5, head_length=0.7, fc='yellow', ec='red')\n",
        "ax.arrow(2.0, 4.0, 4.0, 0.0, head_width=0.5, head_length=0.7, fc='green', ec='blue')\n",
        "ax.arrow(2.0, 4.0, 2.0, 4.0, head_width=0.5, head_length=0.7, fc='blue', ec='black')\n",
        "plt.grid()\n",
        "plt.xlim(0,10)\n",
        "plt.ylim(0,10)\n",
        "plt.title('Vector Using Matplotlib',fontsize=10)\n",
        "plt.show()"
      ],
      "execution_count": null,
      "outputs": [
        {
          "output_type": "display_data",
          "data": {
            "image/png": "[encoded data removed]",
            "text/plain": [
              "<Figure size 432x288 with 1 Axes>"
            ]
          },
          "metadata": {
            "tags": []
          }
        }
      ]
    },
    {
      "cell_type": "code",
      "metadata": {
        "colab": {
          "base_uri": "https://localhost:8080/",
          "height": 265
        },
        "id": "ohYzxu5d9gM_",
        "outputId": "aeb1f0e2-ab24-4a3c-fca6-d99e9069dc30"
      },
      "source": [
        "#Plotting of single vector in 3D\n",
        "fig=plt.figure()\n",
        "ax=plt.axes(projection='3d')\n",
        "ax.set_xlim([-1,10])\n",
        "ax.set_ylim([-10,10])\n",
        "ax.set_zlim([1,10])\n",
        "start=[0,0,0] #starting of the vector\n",
        "end=[2,3,1]   # Ending of the vector\n",
        "ax.quiver(start[0],start[1],start[2],end[0],end[1],end[2])"
      ],
      "execution_count": null,
      "outputs": [
        {
          "output_type": "execute_result",
          "data": {
            "text/plain": [
              "<mpl_toolkits.mplot3d.art3d.Line3DCollection at 0x7fa683919b10>"
            ]
          },
          "metadata": {
            "tags": []
          },
          "execution_count": 86
        },
        {
          "output_type": "display_data",
          "data": {
            "image/png": "[encoded data removed]",
            "text/plain": [
              "<Figure size 432x288 with 1 Axes>"
            ]
          },
          "metadata": {
            "tags": []
          }
        }
      ]
    },
    {
      "cell_type": "code",
      "metadata": {
        "id": "vXMbxr2m9mCk"
      },
      "source": [
        ""
      ],
      "execution_count": null,
      "outputs": []
    }
  ]
}